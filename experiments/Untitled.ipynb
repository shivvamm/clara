{
 "cells": [
  {
   "cell_type": "code",
   "execution_count": 2,
   "id": "732c7694-68cf-4c94-8b29-d253679b1d52",
   "metadata": {},
   "outputs": [
    {
     "name": "stdout",
     "output_type": "stream",
     "text": [
      "Collecting plotly\n",
      "  Using cached plotly-5.24.1-py3-none-any.whl.metadata (7.3 kB)\n",
      "Requirement already satisfied: tenacity>=6.2.0 in /home/jellyfish/base/lib/python3.12/site-packages (from plotly) (8.5.0)\n",
      "Requirement already satisfied: packaging in /home/jellyfish/base/lib/python3.12/site-packages (from plotly) (24.2)\n",
      "Using cached plotly-5.24.1-py3-none-any.whl (19.1 MB)\n",
      "Installing collected packages: plotly\n",
      "Successfully installed plotly-5.24.1\n"
     ]
    }
   ],
   "source": [
    "!pip install plotly"
   ]
  },
  {
   "cell_type": "code",
   "execution_count": null,
   "id": "c1a9c6e5-7255-4e65-853b-e481f88f9c20",
   "metadata": {},
   "outputs": [],
   "source": []
  },
  {
   "cell_type": "code",
   "execution_count": 11,
   "id": "1761129e-225d-4a6e-8a84-f005281b060f",
   "metadata": {},
   "outputs": [
    {
     "name": "stdout",
     "output_type": "stream",
     "text": [
      "Collecting ipywidgets\n",
      "  Downloading ipywidgets-8.1.5-py3-none-any.whl.metadata (2.3 kB)\n",
      "Requirement already satisfied: comm>=0.1.3 in /home/jellyfish/base/lib/python3.12/site-packages (from ipywidgets) (0.2.2)\n",
      "Requirement already satisfied: ipython>=6.1.0 in /home/jellyfish/base/lib/python3.12/site-packages (from ipywidgets) (8.31.0)\n",
      "Requirement already satisfied: traitlets>=4.3.1 in /home/jellyfish/base/lib/python3.12/site-packages (from ipywidgets) (5.14.3)\n",
      "Collecting widgetsnbextension~=4.0.12 (from ipywidgets)\n",
      "  Downloading widgetsnbextension-4.0.13-py3-none-any.whl.metadata (1.6 kB)\n",
      "Collecting jupyterlab-widgets~=3.0.12 (from ipywidgets)\n",
      "  Downloading jupyterlab_widgets-3.0.13-py3-none-any.whl.metadata (4.1 kB)\n",
      "Requirement already satisfied: decorator in /home/jellyfish/base/lib/python3.12/site-packages (from ipython>=6.1.0->ipywidgets) (5.1.1)\n",
      "Requirement already satisfied: jedi>=0.16 in /home/jellyfish/base/lib/python3.12/site-packages (from ipython>=6.1.0->ipywidgets) (0.19.2)\n",
      "Requirement already satisfied: matplotlib-inline in /home/jellyfish/base/lib/python3.12/site-packages (from ipython>=6.1.0->ipywidgets) (0.1.7)\n",
      "Requirement already satisfied: pexpect>4.3 in /home/jellyfish/base/lib/python3.12/site-packages (from ipython>=6.1.0->ipywidgets) (4.9.0)\n",
      "Requirement already satisfied: prompt_toolkit<3.1.0,>=3.0.41 in /home/jellyfish/base/lib/python3.12/site-packages (from ipython>=6.1.0->ipywidgets) (3.0.48)\n",
      "Requirement already satisfied: pygments>=2.4.0 in /home/jellyfish/base/lib/python3.12/site-packages (from ipython>=6.1.0->ipywidgets) (2.18.0)\n",
      "Requirement already satisfied: stack_data in /home/jellyfish/base/lib/python3.12/site-packages (from ipython>=6.1.0->ipywidgets) (0.6.3)\n",
      "Requirement already satisfied: parso<0.9.0,>=0.8.4 in /home/jellyfish/base/lib/python3.12/site-packages (from jedi>=0.16->ipython>=6.1.0->ipywidgets) (0.8.4)\n",
      "Requirement already satisfied: ptyprocess>=0.5 in /home/jellyfish/base/lib/python3.12/site-packages (from pexpect>4.3->ipython>=6.1.0->ipywidgets) (0.7.0)\n",
      "Requirement already satisfied: wcwidth in /home/jellyfish/base/lib/python3.12/site-packages (from prompt_toolkit<3.1.0,>=3.0.41->ipython>=6.1.0->ipywidgets) (0.2.13)\n",
      "Requirement already satisfied: executing>=1.2.0 in /home/jellyfish/base/lib/python3.12/site-packages (from stack_data->ipython>=6.1.0->ipywidgets) (2.1.0)\n",
      "Requirement already satisfied: asttokens>=2.1.0 in /home/jellyfish/base/lib/python3.12/site-packages (from stack_data->ipython>=6.1.0->ipywidgets) (3.0.0)\n",
      "Requirement already satisfied: pure-eval in /home/jellyfish/base/lib/python3.12/site-packages (from stack_data->ipython>=6.1.0->ipywidgets) (0.2.3)\n",
      "Downloading ipywidgets-8.1.5-py3-none-any.whl (139 kB)\n",
      "\u001b[2K   \u001b[38;2;114;156;31m━━━━━━━━━━━━━━━━━━━━━━━━━━━━━━━━━━━━━━━━\u001b[0m \u001b[32m139.8/139.8 kB\u001b[0m \u001b[31m4.4 MB/s\u001b[0m eta \u001b[36m0:00:00\u001b[0m\n",
      "\u001b[?25hDownloading jupyterlab_widgets-3.0.13-py3-none-any.whl (214 kB)\n",
      "\u001b[2K   \u001b[38;2;114;156;31m━━━━━━━━━━━━━━━━━━━━━━━━━━━━━━━━━━━━━━━━\u001b[0m \u001b[32m214.4/214.4 kB\u001b[0m \u001b[31m7.3 MB/s\u001b[0m eta \u001b[36m0:00:00\u001b[0m\n",
      "\u001b[?25hDownloading widgetsnbextension-4.0.13-py3-none-any.whl (2.3 MB)\n",
      "\u001b[2K   \u001b[38;2;114;156;31m━━━━━━━━━━━━━━━━━━━━━━━━━━━━━━━━━━━━━━━━\u001b[0m \u001b[32m2.3/2.3 MB\u001b[0m \u001b[31m4.2 MB/s\u001b[0m eta \u001b[36m0:00:00\u001b[0mm eta \u001b[36m0:00:01\u001b[0m0:01\u001b[0m:01\u001b[0m\n",
      "Installing collected packages: widgetsnbextension, jupyterlab-widgets, ipywidgets\n",
      "Successfully installed ipywidgets-8.1.5 jupyterlab-widgets-3.0.13 widgetsnbextension-4.0.13\n"
     ]
    }
   ],
   "source": [
    "!pip install ipywidgets"
   ]
  },
  {
   "cell_type": "code",
   "execution_count": 17,
   "id": "697cfc38-9536-4a00-b778-afa170c33d6b",
   "metadata": {},
   "outputs": [
    {
     "name": "stdout",
     "output_type": "stream",
     "text": [
      "Collecting jupyter_contrib_nbextensions\n",
      "  Downloading jupyter_contrib_nbextensions-0.7.0.tar.gz (23.5 MB)\n",
      "\u001b[2K     \u001b[38;2;114;156;31m━━━━━━━━━━━━━━━━━━━━━━━━━━━━━━━━━━━━━━━━\u001b[0m \u001b[32m23.5/23.5 MB\u001b[0m \u001b[31m10.2 MB/s\u001b[0m eta \u001b[36m0:00:00\u001b[0mm eta \u001b[36m0:00:01\u001b[0m0:01\u001b[0m:01\u001b[0m\n",
      "  Installing build dependencies ... \u001b[?2done\n",
      "\u001b[?25h  Getting requirements to build wheel ... \u001b[?25ldone\n",
      "\u001b[?25h  Preparing metadata (pyproject.toml) ... \u001b[?25ldone\n",
      "\u001b[?25hCollecting ipython_genutils (from jupyter_contrib_nbextensions)\n",
      "  Downloading ipython_genutils-0.2.0-py2.py3-none-any.whl.metadata (755 bytes)\n",
      "Collecting jupyter_contrib_core>=0.3.3 (from jupyter_contrib_nbextensions)\n",
      "  Downloading jupyter_contrib_core-0.4.2.tar.gz (17 kB)\n",
      "  Installing build dependencies ... \u001b[?2done\n",
      "\u001b[?25h  Getting requirements to build wheel ... \u001b[?25ldone\n",
      "\u001b[?25h  Preparing metadata (pyproject.toml) ... \u001b[?25ldone\n",
      "\u001b[?25hRequirement already satisfied: jupyter_core in /home/jellyfish/base/lib/python3.12/site-packages (from jupyter_contrib_nbextensions) (5.7.2)\n",
      "Collecting jupyter_highlight_selected_word>=0.1.1 (from jupyter_contrib_nbextensions)\n",
      "  Downloading jupyter_highlight_selected_word-0.2.0-py2.py3-none-any.whl.metadata (730 bytes)\n",
      "Collecting jupyter_nbextensions_configurator>=0.4.0 (from jupyter_contrib_nbextensions)\n",
      "  Downloading jupyter_nbextensions_configurator-0.6.4-py2.py3-none-any.whl.metadata (1.8 kB)\n",
      "Requirement already satisfied: nbconvert>=6.0 in /home/jellyfish/base/lib/python3.12/site-packages (from jupyter_contrib_nbextensions) (7.16.5)\n",
      "Collecting notebook>=6.0 (from jupyter_contrib_nbextensions)\n",
      "  Downloading notebook-7.3.2-py3-none-any.whl.metadata (10 kB)\n",
      "Requirement already satisfied: tornado in /home/jellyfish/base/lib/python3.12/site-packages (from jupyter_contrib_nbextensions) (6.4.2)\n",
      "Requirement already satisfied: traitlets>=4.1 in /home/jellyfish/base/lib/python3.12/site-packages (from jupyter_contrib_nbextensions) (5.14.3)\n",
      "Requirement already satisfied: lxml in /home/jellyfish/base/lib/python3.12/site-packages (from jupyter_contrib_nbextensions) (5.3.0)\n",
      "Requirement already satisfied: setuptools in /home/jellyfish/base/lib/python3.12/site-packages (from jupyter_contrib_core>=0.3.3->jupyter_contrib_nbextensions) (75.6.0)\n",
      "Requirement already satisfied: jupyter-server in /home/jellyfish/base/lib/python3.12/site-packages (from jupyter_nbextensions_configurator>=0.4.0->jupyter_contrib_nbextensions) (2.15.0)\n",
      "Requirement already satisfied: pyyaml in /home/jellyfish/base/lib/python3.12/site-packages (from jupyter_nbextensions_configurator>=0.4.0->jupyter_contrib_nbextensions) (6.0.2)\n",
      "Requirement already satisfied: beautifulsoup4 in /home/jellyfish/base/lib/python3.12/site-packages (from nbconvert>=6.0->jupyter_contrib_nbextensions) (4.12.3)\n",
      "Requirement already satisfied: bleach!=5.0.0 in /home/jellyfish/base/lib/python3.12/site-packages (from bleach[css]!=5.0.0->nbconvert>=6.0->jupyter_contrib_nbextensions) (6.2.0)\n",
      "Requirement already satisfied: defusedxml in /home/jellyfish/base/lib/python3.12/site-packages (from nbconvert>=6.0->jupyter_contrib_nbextensions) (0.7.1)\n",
      "Requirement already satisfied: jinja2>=3.0 in /home/jellyfish/base/lib/python3.12/site-packages (from nbconvert>=6.0->jupyter_contrib_nbextensions) (3.1.4)\n",
      "Requirement already satisfied: jupyterlab-pygments in /home/jellyfish/base/lib/python3.12/site-packages (from nbconvert>=6.0->jupyter_contrib_nbextensions) (0.3.0)\n",
      "Requirement already satisfied: markupsafe>=2.0 in /home/jellyfish/base/lib/python3.12/site-packages (from nbconvert>=6.0->jupyter_contrib_nbextensions) (3.0.2)\n",
      "Requirement already satisfied: mistune<4,>=2.0.3 in /home/jellyfish/base/lib/python3.12/site-packages (from nbconvert>=6.0->jupyter_contrib_nbextensions) (3.1.0)\n",
      "Requirement already satisfied: nbclient>=0.5.0 in /home/jellyfish/base/lib/python3.12/site-packages (from nbconvert>=6.0->jupyter_contrib_nbextensions) (0.10.2)\n",
      "Requirement already satisfied: nbformat>=5.7 in /home/jellyfish/base/lib/python3.12/site-packages (from nbconvert>=6.0->jupyter_contrib_nbextensions) (5.10.4)\n",
      "Requirement already satisfied: packaging in /home/jellyfish/base/lib/python3.12/site-packages (from nbconvert>=6.0->jupyter_contrib_nbextensions) (24.2)\n",
      "Requirement already satisfied: pandocfilters>=1.4.1 in /home/jellyfish/base/lib/python3.12/site-packages (from nbconvert>=6.0->jupyter_contrib_nbextensions) (1.5.1)\n",
      "Requirement already satisfied: pygments>=2.4.1 in /home/jellyfish/base/lib/python3.12/site-packages (from nbconvert>=6.0->jupyter_contrib_nbextensions) (2.18.0)\n",
      "Requirement already satisfied: platformdirs>=2.5 in /home/jellyfish/base/lib/python3.12/site-packages (from jupyter_core->jupyter_contrib_nbextensions) (4.3.6)\n",
      "Requirement already satisfied: jupyterlab-server<3,>=2.27.1 in /home/jellyfish/base/lib/python3.12/site-packages (from notebook>=6.0->jupyter_contrib_nbextensions) (2.27.3)\n",
      "Requirement already satisfied: jupyterlab<4.4,>=4.3.4 in /home/jellyfish/base/lib/python3.12/site-packages (from notebook>=6.0->jupyter_contrib_nbextensions) (4.3.4)\n",
      "Requirement already satisfied: notebook-shim<0.3,>=0.2 in /home/jellyfish/base/lib/python3.12/site-packages (from notebook>=6.0->jupyter_contrib_nbextensions) (0.2.4)\n",
      "Requirement already satisfied: webencodings in /home/jellyfish/base/lib/python3.12/site-packages (from bleach!=5.0.0->bleach[css]!=5.0.0->nbconvert>=6.0->jupyter_contrib_nbextensions) (0.5.1)\n",
      "Requirement already satisfied: tinycss2<1.5,>=1.1.0 in /home/jellyfish/base/lib/python3.12/site-packages (from bleach[css]!=5.0.0->nbconvert>=6.0->jupyter_contrib_nbextensions) (1.4.0)\n",
      "Requirement already satisfied: anyio>=3.1.0 in /home/jellyfish/base/lib/python3.12/site-packages (from jupyter-server->jupyter_nbextensions_configurator>=0.4.0->jupyter_contrib_nbextensions) (4.7.0)\n",
      "Requirement already satisfied: argon2-cffi>=21.1 in /home/jellyfish/base/lib/python3.12/site-packages (from jupyter-server->jupyter_nbextensions_configurator>=0.4.0->jupyter_contrib_nbextensions) (23.1.0)\n",
      "Requirement already satisfied: jupyter-client>=7.4.4 in /home/jellyfish/base/lib/python3.12/site-packages (from jupyter-server->jupyter_nbextensions_configurator>=0.4.0->jupyter_contrib_nbextensions) (8.6.3)\n",
      "Requirement already satisfied: jupyter-events>=0.11.0 in /home/jellyfish/base/lib/python3.12/site-packages (from jupyter-server->jupyter_nbextensions_configurator>=0.4.0->jupyter_contrib_nbextensions) (0.11.0)\n",
      "Requirement already satisfied: jupyter-server-terminals>=0.4.4 in /home/jellyfish/base/lib/python3.12/site-packages (from jupyter-server->jupyter_nbextensions_configurator>=0.4.0->jupyter_contrib_nbextensions) (0.5.3)\n",
      "Requirement already satisfied: overrides>=5.0 in /home/jellyfish/base/lib/python3.12/site-packages (from jupyter-server->jupyter_nbextensions_configurator>=0.4.0->jupyter_contrib_nbextensions) (7.7.0)\n",
      "Requirement already satisfied: prometheus-client>=0.9 in /home/jellyfish/base/lib/python3.12/site-packages (from jupyter-server->jupyter_nbextensions_configurator>=0.4.0->jupyter_contrib_nbextensions) (0.21.1)\n",
      "Requirement already satisfied: pyzmq>=24 in /home/jellyfish/base/lib/python3.12/site-packages (from jupyter-server->jupyter_nbextensions_configurator>=0.4.0->jupyter_contrib_nbextensions) (26.2.0)\n",
      "Requirement already satisfied: send2trash>=1.8.2 in /home/jellyfish/base/lib/python3.12/site-packages (from jupyter-server->jupyter_nbextensions_configurator>=0.4.0->jupyter_contrib_nbextensions) (1.8.3)\n",
      "Requirement already satisfied: terminado>=0.8.3 in /home/jellyfish/base/lib/python3.12/site-packages (from jupyter-server->jupyter_nbextensions_configurator>=0.4.0->jupyter_contrib_nbextensions) (0.18.1)\n",
      "Requirement already satisfied: websocket-client>=1.7 in /home/jellyfish/base/lib/python3.12/site-packages (from jupyter-server->jupyter_nbextensions_configurator>=0.4.0->jupyter_contrib_nbextensions) (1.8.0)\n",
      "Requirement already satisfied: async-lru>=1.0.0 in /home/jellyfish/base/lib/python3.12/site-packages (from jupyterlab<4.4,>=4.3.4->notebook>=6.0->jupyter_contrib_nbextensions) (2.0.4)\n",
      "Requirement already satisfied: httpx>=0.25.0 in /home/jellyfish/base/lib/python3.12/site-packages (from jupyterlab<4.4,>=4.3.4->notebook>=6.0->jupyter_contrib_nbextensions) (0.27.2)\n",
      "Requirement already satisfied: ipykernel>=6.5.0 in /home/jellyfish/base/lib/python3.12/site-packages (from jupyterlab<4.4,>=4.3.4->notebook>=6.0->jupyter_contrib_nbextensions) (6.29.5)\n",
      "Requirement already satisfied: jupyter-lsp>=2.0.0 in /home/jellyfish/base/lib/python3.12/site-packages (from jupyterlab<4.4,>=4.3.4->notebook>=6.0->jupyter_contrib_nbextensions) (2.2.5)\n",
      "Requirement already satisfied: babel>=2.10 in /home/jellyfish/base/lib/python3.12/site-packages (from jupyterlab-server<3,>=2.27.1->notebook>=6.0->jupyter_contrib_nbextensions) (2.16.0)\n",
      "Requirement already satisfied: json5>=0.9.0 in /home/jellyfish/base/lib/python3.12/site-packages (from jupyterlab-server<3,>=2.27.1->notebook>=6.0->jupyter_contrib_nbextensions) (0.10.0)\n",
      "Requirement already satisfied: jsonschema>=4.18.0 in /home/jellyfish/base/lib/python3.12/site-packages (from jupyterlab-server<3,>=2.27.1->notebook>=6.0->jupyter_contrib_nbextensions) (4.23.0)\n",
      "Requirement already satisfied: requests>=2.31 in /home/jellyfish/base/lib/python3.12/site-packages (from jupyterlab-server<3,>=2.27.1->notebook>=6.0->jupyter_contrib_nbextensions) (2.32.3)\n",
      "Requirement already satisfied: fastjsonschema>=2.15 in /home/jellyfish/base/lib/python3.12/site-packages (from nbformat>=5.7->nbconvert>=6.0->jupyter_contrib_nbextensions) (2.21.1)\n",
      "Requirement already satisfied: soupsieve>1.2 in /home/jellyfish/base/lib/python3.12/site-packages (from beautifulsoup4->nbconvert>=6.0->jupyter_contrib_nbextensions) (2.6)\n",
      "Requirement already satisfied: idna>=2.8 in /home/jellyfish/base/lib/python3.12/site-packages (from anyio>=3.1.0->jupyter-server->jupyter_nbextensions_configurator>=0.4.0->jupyter_contrib_nbextensions) (3.10)\n",
      "Requirement already satisfied: sniffio>=1.1 in /home/jellyfish/base/lib/python3.12/site-packages (from anyio>=3.1.0->jupyter-server->jupyter_nbextensions_configurator>=0.4.0->jupyter_contrib_nbextensions) (1.3.1)\n",
      "Requirement already satisfied: typing_extensions>=4.5 in /home/jellyfish/base/lib/python3.12/site-packages (from anyio>=3.1.0->jupyter-server->jupyter_nbextensions_configurator>=0.4.0->jupyter_contrib_nbextensions) (4.12.2)\n",
      "Requirement already satisfied: argon2-cffi-bindings in /home/jellyfish/base/lib/python3.12/site-packages (from argon2-cffi>=21.1->jupyter-server->jupyter_nbextensions_configurator>=0.4.0->jupyter_contrib_nbextensions) (21.2.0)\n",
      "Requirement already satisfied: certifi in /home/jellyfish/base/lib/python3.12/site-packages (from httpx>=0.25.0->jupyterlab<4.4,>=4.3.4->notebook>=6.0->jupyter_contrib_nbextensions) (2024.12.14)\n",
      "Requirement already satisfied: httpcore==1.* in /home/jellyfish/base/lib/python3.12/site-packages (from httpx>=0.25.0->jupyterlab<4.4,>=4.3.4->notebook>=6.0->jupyter_contrib_nbextensions) (1.0.7)\n",
      "Requirement already satisfied: h11<0.15,>=0.13 in /home/jellyfish/base/lib/python3.12/site-packages (from httpcore==1.*->httpx>=0.25.0->jupyterlab<4.4,>=4.3.4->notebook>=6.0->jupyter_contrib_nbextensions) (0.14.0)\n",
      "Requirement already satisfied: comm>=0.1.1 in /home/jellyfish/base/lib/python3.12/site-packages (from ipykernel>=6.5.0->jupyterlab<4.4,>=4.3.4->notebook>=6.0->jupyter_contrib_nbextensions) (0.2.2)\n",
      "Requirement already satisfied: debugpy>=1.6.5 in /home/jellyfish/base/lib/python3.12/site-packages (from ipykernel>=6.5.0->jupyterlab<4.4,>=4.3.4->notebook>=6.0->jupyter_contrib_nbextensions) (1.8.11)\n",
      "Requirement already satisfied: ipython>=7.23.1 in /home/jellyfish/base/lib/python3.12/site-packages (from ipykernel>=6.5.0->jupyterlab<4.4,>=4.3.4->notebook>=6.0->jupyter_contrib_nbextensions) (8.31.0)\n",
      "Requirement already satisfied: matplotlib-inline>=0.1 in /home/jellyfish/base/lib/python3.12/site-packages (from ipykernel>=6.5.0->jupyterlab<4.4,>=4.3.4->notebook>=6.0->jupyter_contrib_nbextensions) (0.1.7)\n",
      "Requirement already satisfied: nest-asyncio in /home/jellyfish/base/lib/python3.12/site-packages (from ipykernel>=6.5.0->jupyterlab<4.4,>=4.3.4->notebook>=6.0->jupyter_contrib_nbextensions) (1.6.0)\n",
      "Requirement already satisfied: psutil in /home/jellyfish/base/lib/python3.12/site-packages (from ipykernel>=6.5.0->jupyterlab<4.4,>=4.3.4->notebook>=6.0->jupyter_contrib_nbextensions) (6.1.1)\n",
      "Requirement already satisfied: attrs>=22.2.0 in /home/jellyfish/base/lib/python3.12/site-packages (from jsonschema>=4.18.0->jupyterlab-server<3,>=2.27.1->notebook>=6.0->jupyter_contrib_nbextensions) (24.3.0)\n",
      "Requirement already satisfied: jsonschema-specifications>=2023.03.6 in /home/jellyfish/base/lib/python3.12/site-packages (from jsonschema>=4.18.0->jupyterlab-server<3,>=2.27.1->notebook>=6.0->jupyter_contrib_nbextensions) (2024.10.1)\n",
      "Requirement already satisfied: referencing>=0.28.4 in /home/jellyfish/base/lib/python3.12/site-packages (from jsonschema>=4.18.0->jupyterlab-server<3,>=2.27.1->notebook>=6.0->jupyter_contrib_nbextensions) (0.35.1)\n",
      "Requirement already satisfied: rpds-py>=0.7.1 in /home/jellyfish/base/lib/python3.12/site-packages (from jsonschema>=4.18.0->jupyterlab-server<3,>=2.27.1->notebook>=6.0->jupyter_contrib_nbextensions) (0.22.3)\n",
      "Requirement already satisfied: python-dateutil>=2.8.2 in /home/jellyfish/base/lib/python3.12/site-packages (from jupyter-client>=7.4.4->jupyter-server->jupyter_nbextensions_configurator>=0.4.0->jupyter_contrib_nbextensions) (2.9.0.post0)\n",
      "Requirement already satisfied: python-json-logger>=2.0.4 in /home/jellyfish/base/lib/python3.12/site-packages (from jupyter-events>=0.11.0->jupyter-server->jupyter_nbextensions_configurator>=0.4.0->jupyter_contrib_nbextensions) (3.2.1)\n",
      "Requirement already satisfied: rfc3339-validator in /home/jellyfish/base/lib/python3.12/site-packages (from jupyter-events>=0.11.0->jupyter-server->jupyter_nbextensions_configurator>=0.4.0->jupyter_contrib_nbextensions) (0.1.4)\n",
      "Requirement already satisfied: rfc3986-validator>=0.1.1 in /home/jellyfish/base/lib/python3.12/site-packages (from jupyter-events>=0.11.0->jupyter-server->jupyter_nbextensions_configurator>=0.4.0->jupyter_contrib_nbextensions) (0.1.1)\n",
      "Requirement already satisfied: charset-normalizer<4,>=2 in /home/jellyfish/base/lib/python3.12/site-packages (from requests>=2.31->jupyterlab-server<3,>=2.27.1->notebook>=6.0->jupyter_contrib_nbextensions) (3.4.1)\n",
      "Requirement already satisfied: urllib3<3,>=1.21.1 in /home/jellyfish/base/lib/python3.12/site-packages (from requests>=2.31->jupyterlab-server<3,>=2.27.1->notebook>=6.0->jupyter_contrib_nbextensions) (2.3.0)\n",
      "Requirement already satisfied: ptyprocess in /home/jellyfish/base/lib/python3.12/site-packages (from terminado>=0.8.3->jupyter-server->jupyter_nbextensions_configurator>=0.4.0->jupyter_contrib_nbextensions) (0.7.0)\n",
      "Requirement already satisfied: decorator in /home/jellyfish/base/lib/python3.12/site-packages (from ipython>=7.23.1->ipykernel>=6.5.0->jupyterlab<4.4,>=4.3.4->notebook>=6.0->jupyter_contrib_nbextensions) (5.1.1)\n",
      "Requirement already satisfied: jedi>=0.16 in /home/jellyfish/base/lib/python3.12/site-packages (from ipython>=7.23.1->ipykernel>=6.5.0->jupyterlab<4.4,>=4.3.4->notebook>=6.0->jupyter_contrib_nbextensions) (0.19.2)\n",
      "Requirement already satisfied: pexpect>4.3 in /home/jellyfish/base/lib/python3.12/site-packages (from ipython>=7.23.1->ipykernel>=6.5.0->jupyterlab<4.4,>=4.3.4->notebook>=6.0->jupyter_contrib_nbextensions) (4.9.0)\n",
      "Requirement already satisfied: prompt_toolkit<3.1.0,>=3.0.41 in /home/jellyfish/base/lib/python3.12/site-packages (from ipython>=7.23.1->ipykernel>=6.5.0->jupyterlab<4.4,>=4.3.4->notebook>=6.0->jupyter_contrib_nbextensions) (3.0.48)\n",
      "Requirement already satisfied: stack_data in /home/jellyfish/base/lib/python3.12/site-packages (from ipython>=7.23.1->ipykernel>=6.5.0->jupyterlab<4.4,>=4.3.4->notebook>=6.0->jupyter_contrib_nbextensions) (0.6.3)\n",
      "Requirement already satisfied: fqdn in /home/jellyfish/base/lib/python3.12/site-packages (from jsonschema[format-nongpl]>=4.18.0->jupyter-events>=0.11.0->jupyter-server->jupyter_nbextensions_configurator>=0.4.0->jupyter_contrib_nbextensions) (1.5.1)\n",
      "Requirement already satisfied: isoduration in /home/jellyfish/base/lib/python3.12/site-packages (from jsonschema[format-nongpl]>=4.18.0->jupyter-events>=0.11.0->jupyter-server->jupyter_nbextensions_configurator>=0.4.0->jupyter_contrib_nbextensions) (20.11.0)\n",
      "Requirement already satisfied: jsonpointer>1.13 in /home/jellyfish/base/lib/python3.12/site-packages (from jsonschema[format-nongpl]>=4.18.0->jupyter-events>=0.11.0->jupyter-server->jupyter_nbextensions_configurator>=0.4.0->jupyter_contrib_nbextensions) (3.0.0)\n",
      "Requirement already satisfied: uri-template in /home/jellyfish/base/lib/python3.12/site-packages (from jsonschema[format-nongpl]>=4.18.0->jupyter-events>=0.11.0->jupyter-server->jupyter_nbextensions_configurator>=0.4.0->jupyter_contrib_nbextensions) (1.3.0)\n",
      "Requirement already satisfied: webcolors>=24.6.0 in /home/jellyfish/base/lib/python3.12/site-packages (from jsonschema[format-nongpl]>=4.18.0->jupyter-events>=0.11.0->jupyter-server->jupyter_nbextensions_configurator>=0.4.0->jupyter_contrib_nbextensions) (24.11.1)\n",
      "Requirement already satisfied: six>=1.5 in /home/jellyfish/base/lib/python3.12/site-packages (from python-dateutil>=2.8.2->jupyter-client>=7.4.4->jupyter-server->jupyter_nbextensions_configurator>=0.4.0->jupyter_contrib_nbextensions) (1.17.0)\n",
      "Requirement already satisfied: cffi>=1.0.1 in /home/jellyfish/base/lib/python3.12/site-packages (from argon2-cffi-bindings->argon2-cffi>=21.1->jupyter-server->jupyter_nbextensions_configurator>=0.4.0->jupyter_contrib_nbextensions) (1.17.1)\n",
      "Requirement already satisfied: pycparser in /home/jellyfish/base/lib/python3.12/site-packages (from cffi>=1.0.1->argon2-cffi-bindings->argon2-cffi>=21.1->jupyter-server->jupyter_nbextensions_configurator>=0.4.0->jupyter_contrib_nbextensions) (2.22)\n",
      "Requirement already satisfied: parso<0.9.0,>=0.8.4 in /home/jellyfish/base/lib/python3.12/site-packages (from jedi>=0.16->ipython>=7.23.1->ipykernel>=6.5.0->jupyterlab<4.4,>=4.3.4->notebook>=6.0->jupyter_contrib_nbextensions) (0.8.4)\n",
      "Requirement already satisfied: wcwidth in /home/jellyfish/base/lib/python3.12/site-packages (from prompt_toolkit<3.1.0,>=3.0.41->ipython>=7.23.1->ipykernel>=6.5.0->jupyterlab<4.4,>=4.3.4->notebook>=6.0->jupyter_contrib_nbextensions) (0.2.13)\n",
      "Requirement already satisfied: arrow>=0.15.0 in /home/jellyfish/base/lib/python3.12/site-packages (from isoduration->jsonschema[format-nongpl]>=4.18.0->jupyter-events>=0.11.0->jupyter-server->jupyter_nbextensions_configurator>=0.4.0->jupyter_contrib_nbextensions) (1.3.0)\n",
      "Requirement already satisfied: executing>=1.2.0 in /home/jellyfish/base/lib/python3.12/site-packages (from stack_data->ipython>=7.23.1->ipykernel>=6.5.0->jupyterlab<4.4,>=4.3.4->notebook>=6.0->jupyter_contrib_nbextensions) (2.1.0)\n",
      "Requirement already satisfied: asttokens>=2.1.0 in /home/jellyfish/base/lib/python3.12/site-packages (from stack_data->ipython>=7.23.1->ipykernel>=6.5.0->jupyterlab<4.4,>=4.3.4->notebook>=6.0->jupyter_contrib_nbextensions) (3.0.0)\n",
      "Requirement already satisfied: pure-eval in /home/jellyfish/base/lib/python3.12/site-packages (from stack_data->ipython>=7.23.1->ipykernel>=6.5.0->jupyterlab<4.4,>=4.3.4->notebook>=6.0->jupyter_contrib_nbextensions) (0.2.3)\n",
      "Requirement already satisfied: types-python-dateutil>=2.8.10 in /home/jellyfish/base/lib/python3.12/site-packages (from arrow>=0.15.0->isoduration->jsonschema[format-nongpl]>=4.18.0->jupyter-events>=0.11.0->jupyter-server->jupyter_nbextensions_configurator>=0.4.0->jupyter_contrib_nbextensions) (2.9.0.20241206)\n",
      "Downloading jupyter_highlight_selected_word-0.2.0-py2.py3-none-any.whl (11 kB)\n",
      "Downloading jupyter_nbextensions_configurator-0.6.4-py2.py3-none-any.whl (466 kB)\n",
      "\u001b[2K   \u001b[38;2;114;156;31m━━━━━━━━━━━━━━━━━━━━━━━━━━━━━━━━━━━━━━━━\u001b[0m \u001b[32m466.9/466.9 kB\u001b[0m \u001b[31m11.0 MB/s\u001b[0m eta \u001b[36m0:00:00\u001b[0m31m11.7 MB/s\u001b[0m eta \u001b[36m0:00:01\u001b[0m\n",
      "\u001b[?25hDownloading notebook-7.3.2-py3-none-any.whl (13.2 MB)\n",
      "\u001b[2K   \u001b[38;2;114;156;31m━━━━━━━━━━━━━━━━━━━━━━━━━━━━━━━━━━━━━━━━\u001b[0m \u001b[32m13.2/13.2 MB\u001b[0m \u001b[31m12.2 MB/s\u001b[0m eta \u001b[36m0:00:00\u001b[0mm eta \u001b[36m0:00:01\u001b[0m[36m0:00:01\u001b[0m\n",
      "\u001b[?25hDownloading ipython_genutils-0.2.0-py2.py3-none-any.whl (26 kB)\n",
      "Building wheels for collected packages: jupyter_contrib_nbextensions, jupyter_contrib_core\n",
      "  Building wheel for jupyter_contrib_nbextensions (pyproject.toml) .done\n",
      "\u001b[?25h  Created wheel for jupyter_contrib_nbextensions: filename=jupyter_contrib_nbextensions-0.7.0-py2.py3-none-any.whl size=23428842 sha256=3695300c9895e941d239aa573ce440fbfbd54de564c266f16ba9132e37a20115\n",
      "  Stored in directory: /home/jellyfish/.cache/pip/wheels/4d/e4/20/dd16cdbbddcfe309a4559ea16adfa75fa5c554cfd076f9dae8\n",
      "  Building wheel for jupyter_contrib_core (pyproject.toml) ... \u001b[?25ldone\n",
      "\u001b[?25h  Created wheel for jupyter_contrib_core: filename=jupyter_contrib_core-0.4.2-py2.py3-none-any.whl size=17538 sha256=851d12b3c2b6bdefb0286e41c091a2d456d374f5a6f1ee99da3b45ffcd00a178\n",
      "  Stored in directory: /home/jellyfish/.cache/pip/wheels/32/f9/af/259a6f50f8b89d972aa81e31808a0af14e8bfc6867fb16ed07\n",
      "Successfully built jupyter_contrib_nbextensions jupyter_contrib_core\n",
      "Installing collected packages: jupyter_highlight_selected_word, ipython_genutils, notebook, jupyter_contrib_core, jupyter_nbextensions_configurator, jupyter_contrib_nbextensions\n",
      "Successfully installed ipython_genutils-0.2.0 jupyter_contrib_core-0.4.2 jupyter_contrib_nbextensions-0.7.0 jupyter_highlight_selected_word-0.2.0 jupyter_nbextensions_configurator-0.6.4 notebook-7.3.2\n"
     ]
    }
   ],
   "source": [
    "!pip install jupyter_contrib_nbextensions"
   ]
  },
  {
   "cell_type": "code",
   "execution_count": 19,
   "id": "7225f990-bfce-4a91-b702-4ec6c60e843b",
   "metadata": {},
   "outputs": [
    {
     "name": "stdout",
     "output_type": "stream",
     "text": [
      "usage: jupyter [-h] [--version] [--config-dir] [--data-dir] [--runtime-dir]\n",
      "               [--paths] [--json] [--debug]\n",
      "               [subcommand]\n",
      "\n",
      "Jupyter: Interactive Computing\n",
      "\n",
      "positional arguments:\n",
      "  subcommand     the subcommand to launch\n",
      "\n",
      "options:\n",
      "  -h, --help     show this help message and exit\n",
      "  --version      show the versions of core jupyter packages and exit\n",
      "  --config-dir   show Jupyter config dir\n",
      "  --data-dir     show Jupyter data dir\n",
      "  --runtime-dir  show Jupyter runtime dir\n",
      "  --paths        show all Jupyter paths. Add --json for machine-readable\n",
      "                 format.\n",
      "  --json         output paths as machine-readable json\n",
      "  --debug        output debug information about paths\n",
      "\n",
      "Available subcommands: contrib dejavu events execute kernel kernelspec lab\n",
      "labextension labhub migrate nbconvert nbextensions_configurator notebook run\n",
      "server troubleshoot trust\n",
      "\n",
      "Jupyter command `jupyter-nbextension` not found.\n"
     ]
    }
   ],
   "source": [
    "!jupyter nbextension enable --py widgetsnbextension"
   ]
  },
  {
   "cell_type": "code",
   "execution_count": 4,
   "id": "7dd93a21-6f81-4911-94ca-4b917983e54c",
   "metadata": {},
   "outputs": [
    {
     "data": {
      "application/vnd.plotly.v1+json": {
       "config": {
        "plotlyServerURL": "https://plot.ly"
       },
       "data": [
        {
         "line": {
          "color": "blue"
         },
         "mode": "lines",
         "name": "x² + 2",
         "type": "scatter",
         "x": [
          -3,
          -2.969849246231156,
          -2.9396984924623117,
          -2.909547738693467,
          -2.879396984924623,
          -2.849246231155779,
          -2.819095477386935,
          -2.7889447236180906,
          -2.758793969849246,
          -2.728643216080402,
          -2.698492462311558,
          -2.6683417085427137,
          -2.6381909547738696,
          -2.608040201005025,
          -2.577889447236181,
          -2.5477386934673367,
          -2.5175879396984926,
          -2.4874371859296485,
          -2.457286432160804,
          -2.4271356783919598,
          -2.3969849246231156,
          -2.3668341708542715,
          -2.3366834170854274,
          -2.306532663316583,
          -2.2763819095477387,
          -2.2462311557788945,
          -2.2160804020100504,
          -2.1859296482412063,
          -2.1557788944723617,
          -2.1256281407035176,
          -2.0954773869346734,
          -2.0653266331658293,
          -2.035175879396985,
          -2.0050251256281406,
          -1.9748743718592965,
          -1.9447236180904524,
          -1.914572864321608,
          -1.8844221105527639,
          -1.8542713567839197,
          -1.8241206030150754,
          -1.7939698492462313,
          -1.763819095477387,
          -1.7336683417085428,
          -1.7035175879396987,
          -1.6733668341708543,
          -1.6432160804020102,
          -1.6130653266331658,
          -1.5829145728643217,
          -1.5527638190954773,
          -1.5226130653266332,
          -1.492462311557789,
          -1.4623115577889447,
          -1.4321608040201006,
          -1.4020100502512562,
          -1.3718592964824121,
          -1.341708542713568,
          -1.3115577889447236,
          -1.2814070351758795,
          -1.2512562814070352,
          -1.221105527638191,
          -1.190954773869347,
          -1.1608040201005025,
          -1.1306532663316584,
          -1.100502512562814,
          -1.07035175879397,
          -1.0402010050251258,
          -1.0100502512562815,
          -0.9798994974874371,
          -0.949748743718593,
          -0.9195979899497488,
          -0.8894472361809047,
          -0.8592964824120606,
          -0.829145728643216,
          -0.7989949748743719,
          -0.7688442211055277,
          -0.7386934673366836,
          -0.7085427135678395,
          -0.6783919597989949,
          -0.6482412060301508,
          -0.6180904522613067,
          -0.5879396984924625,
          -0.5577889447236184,
          -0.5276381909547738,
          -0.4974874371859297,
          -0.46733668341708556,
          -0.43718592964824143,
          -0.4070351758793973,
          -0.37688442211055273,
          -0.3467336683417086,
          -0.31658291457286447,
          -0.28643216080402034,
          -0.2562814070351762,
          -0.22613065326633164,
          -0.1959798994974875,
          -0.16582914572864338,
          -0.13567839195979925,
          -0.10552763819095468,
          -0.07537688442211055,
          -0.045226130653266416,
          -0.015075376884422287,
          0.015075376884421843,
          0.045226130653266416,
          0.07537688442211055,
          0.10552763819095468,
          0.1356783919597988,
          0.16582914572864293,
          0.1959798994974875,
          0.22613065326633164,
          0.25628140703517577,
          0.2864321608040199,
          0.316582914572864,
          0.3467336683417086,
          0.37688442211055273,
          0.40703517587939686,
          0.437185929648241,
          0.4673366834170851,
          0.4974874371859297,
          0.5276381909547738,
          0.557788944723618,
          0.5879396984924621,
          0.6180904522613062,
          0.6482412060301508,
          0.6783919597989949,
          0.708542713567839,
          0.7386934673366832,
          0.7688442211055273,
          0.7989949748743719,
          0.829145728643216,
          0.8592964824120601,
          0.8894472361809043,
          0.9195979899497484,
          0.949748743718593,
          0.9798994974874371,
          1.0100502512562812,
          1.0402010050251258,
          1.0703517587939695,
          1.100502512562814,
          1.1306532663316577,
          1.1608040201005023,
          1.190954773869347,
          1.2211055276381906,
          1.2512562814070352,
          1.2814070351758788,
          1.3115577889447234,
          1.341708542713568,
          1.3718592964824117,
          1.4020100502512562,
          1.4321608040201,
          1.4623115577889445,
          1.492462311557789,
          1.5226130653266328,
          1.5527638190954773,
          1.582914572864321,
          1.6130653266331656,
          1.6432160804020102,
          1.6733668341708539,
          1.7035175879396984,
          1.7336683417085421,
          1.7638190954773867,
          1.7939698492462313,
          1.824120603015075,
          1.8542713567839195,
          1.8844221105527632,
          1.9145728643216078,
          1.9447236180904524,
          1.974874371859296,
          2.0050251256281406,
          2.0351758793969843,
          2.065326633165829,
          2.0954773869346734,
          2.125628140703517,
          2.1557788944723617,
          2.1859296482412054,
          2.21608040201005,
          2.2462311557788945,
          2.2763819095477382,
          2.306532663316583,
          2.3366834170854265,
          2.366834170854271,
          2.3969849246231156,
          2.4271356783919593,
          2.457286432160804,
          2.4874371859296476,
          2.517587939698492,
          2.5477386934673367,
          2.5778894472361804,
          2.608040201005025,
          2.6381909547738687,
          2.6683417085427132,
          2.698492462311558,
          2.7286432160804015,
          2.758793969849246,
          2.7889447236180906,
          2.8190954773869343,
          2.849246231155779,
          2.8793969849246226,
          2.909547738693467,
          2.9396984924623117,
          2.9698492462311554,
          3
         ],
         "y": [
          11,
          10.820004545339765,
          10.641827226585189,
          10.465468043736267,
          10.29092699679301,
          10.11820408575541,
          9.94729931062347,
          9.778212671397188,
          9.610944168076564,
          9.445493800661598,
          9.281861569152294,
          9.120047473548649,
          8.960051513850662,
          8.801873690058331,
          8.645514002171662,
          8.490972450190652,
          8.3382490341153,
          8.187343753945608,
          8.038256609681573,
          7.890987601323198,
          7.7455367288704835,
          7.601903992323427,
          7.460089391682029,
          7.320092926946288,
          7.181914598116209,
          7.045554405191789,
          6.911012348173027,
          6.778288427059924,
          6.647382641852478,
          6.518294992550693,
          6.3910254791545675,
          6.2655741016641,
          6.141940860079292,
          6.020125754400141,
          5.90012878462665,
          5.78194995075882,
          5.6655892527966465,
          5.551046690740133,
          5.438322264589279,
          5.327415974344082,
          5.2183278200045455,
          5.111057801570667,
          5.0056059190424484,
          4.901972172419889,
          4.8001565617029875,
          4.7001590868917456,
          4.601979747986162,
          4.505618544986238,
          4.411075477891972,
          4.318350546703366,
          4.227443751420419,
          4.13835509204313,
          4.0510845685715005,
          3.96563218100553,
          3.8819979293452187,
          3.8001818135905663,
          3.7201838337415722,
          3.642003989798238,
          3.5656422817605615,
          3.491098709628545,
          3.418373273402187,
          3.347465973081488,
          3.278376808666448,
          3.211105780157067,
          3.1456528875533447,
          3.082018130855282,
          3.0202015100628774,
          2.9602030251761318,
          2.9020226761950454,
          2.8456604631196183,
          2.79111638594985,
          2.7383904446857406,
          2.6874826393272895,
          2.638392969874498,
          2.5911214363273656,
          2.545668038685892,
          2.5020327769500774,
          2.4602156511199214,
          2.4202166611954246,
          2.3820358071765866,
          2.345673089063408,
          2.311128506855888,
          2.2784020605540265,
          2.2474937501578243,
          2.2184035756672813,
          2.191131537082397,
          2.165677634403172,
          2.1420418676296054,
          2.120224236761698,
          2.1002247417994497,
          2.08204338274286,
          2.06568015959193,
          2.051135072346658,
          2.0384081210070453,
          2.0274993055730914,
          2.018408626044797,
          2.011136082422161,
          2.005681674705184,
          2.002045402893866,
          2.0002272669882073,
          2.0002272669882073,
          2.002045402893866,
          2.005681674705184,
          2.011136082422161,
          2.018408626044797,
          2.0274993055730914,
          2.0384081210070453,
          2.051135072346658,
          2.0656801595919294,
          2.0820433827428597,
          2.1002247417994493,
          2.120224236761698,
          2.1420418676296054,
          2.1656776344031714,
          2.1911315370823967,
          2.218403575667281,
          2.2474937501578243,
          2.2784020605540265,
          2.311128506855887,
          2.345673089063407,
          2.382035807176586,
          2.4202166611954246,
          2.4602156511199214,
          2.5020327769500765,
          2.5456680386858914,
          2.5911214363273647,
          2.638392969874498,
          2.6874826393272895,
          2.73839044468574,
          2.7911163859498496,
          2.8456604631196174,
          2.9020226761950454,
          2.9602030251761318,
          3.0202015100628765,
          3.082018130855282,
          3.145652887553344,
          3.211105780157067,
          3.2783768086664464,
          3.347465973081487,
          3.418373273402187,
          3.4910987096285435,
          3.5656422817605615,
          3.642003989798236,
          3.7201838337415714,
          3.8001818135905663,
          3.881997929345218,
          3.96563218100553,
          4.051084568571499,
          4.138355092043129,
          4.227443751420419,
          4.318350546703365,
          4.411075477891972,
          4.505618544986236,
          4.601979747986161,
          4.7001590868917456,
          4.800156561702986,
          4.901972172419889,
          5.005605919042447,
          5.1110578015706665,
          5.2183278200045455,
          5.327415974344081,
          5.438322264589278,
          5.55104669074013,
          5.665589252796646,
          5.78194995075882,
          5.900128784626649,
          6.020125754400141,
          6.141940860079289,
          6.2655741016640984,
          6.3910254791545675,
          6.5182949925506914,
          6.647382641852478,
          6.77828842705992,
          6.911012348173025,
          7.045554405191789,
          7.181914598116207,
          7.320092926946288,
          7.4600893916820255,
          7.601903992323424,
          7.7455367288704835,
          7.8909876013231965,
          8.038256609681573,
          8.187343753945605,
          8.338249034115298,
          8.490972450190652,
          8.645514002171659,
          8.801873690058331,
          8.960051513850658,
          9.120047473548645,
          9.281861569152294,
          9.445493800661596,
          9.610944168076564,
          9.778212671397188,
          9.947299310623468,
          10.11820408575541,
          10.290926996793008,
          10.465468043736267,
          10.641827226585189,
          10.820004545339762,
          11
         ]
        },
        {
         "line": {
          "color": "red"
         },
         "mode": "lines",
         "name": "6",
         "type": "scatter",
         "x": [
          -3,
          -2.969849246231156,
          -2.9396984924623117,
          -2.909547738693467,
          -2.879396984924623,
          -2.849246231155779,
          -2.819095477386935,
          -2.7889447236180906,
          -2.758793969849246,
          -2.728643216080402,
          -2.698492462311558,
          -2.6683417085427137,
          -2.6381909547738696,
          -2.608040201005025,
          -2.577889447236181,
          -2.5477386934673367,
          -2.5175879396984926,
          -2.4874371859296485,
          -2.457286432160804,
          -2.4271356783919598,
          -2.3969849246231156,
          -2.3668341708542715,
          -2.3366834170854274,
          -2.306532663316583,
          -2.2763819095477387,
          -2.2462311557788945,
          -2.2160804020100504,
          -2.1859296482412063,
          -2.1557788944723617,
          -2.1256281407035176,
          -2.0954773869346734,
          -2.0653266331658293,
          -2.035175879396985,
          -2.0050251256281406,
          -1.9748743718592965,
          -1.9447236180904524,
          -1.914572864321608,
          -1.8844221105527639,
          -1.8542713567839197,
          -1.8241206030150754,
          -1.7939698492462313,
          -1.763819095477387,
          -1.7336683417085428,
          -1.7035175879396987,
          -1.6733668341708543,
          -1.6432160804020102,
          -1.6130653266331658,
          -1.5829145728643217,
          -1.5527638190954773,
          -1.5226130653266332,
          -1.492462311557789,
          -1.4623115577889447,
          -1.4321608040201006,
          -1.4020100502512562,
          -1.3718592964824121,
          -1.341708542713568,
          -1.3115577889447236,
          -1.2814070351758795,
          -1.2512562814070352,
          -1.221105527638191,
          -1.190954773869347,
          -1.1608040201005025,
          -1.1306532663316584,
          -1.100502512562814,
          -1.07035175879397,
          -1.0402010050251258,
          -1.0100502512562815,
          -0.9798994974874371,
          -0.949748743718593,
          -0.9195979899497488,
          -0.8894472361809047,
          -0.8592964824120606,
          -0.829145728643216,
          -0.7989949748743719,
          -0.7688442211055277,
          -0.7386934673366836,
          -0.7085427135678395,
          -0.6783919597989949,
          -0.6482412060301508,
          -0.6180904522613067,
          -0.5879396984924625,
          -0.5577889447236184,
          -0.5276381909547738,
          -0.4974874371859297,
          -0.46733668341708556,
          -0.43718592964824143,
          -0.4070351758793973,
          -0.37688442211055273,
          -0.3467336683417086,
          -0.31658291457286447,
          -0.28643216080402034,
          -0.2562814070351762,
          -0.22613065326633164,
          -0.1959798994974875,
          -0.16582914572864338,
          -0.13567839195979925,
          -0.10552763819095468,
          -0.07537688442211055,
          -0.045226130653266416,
          -0.015075376884422287,
          0.015075376884421843,
          0.045226130653266416,
          0.07537688442211055,
          0.10552763819095468,
          0.1356783919597988,
          0.16582914572864293,
          0.1959798994974875,
          0.22613065326633164,
          0.25628140703517577,
          0.2864321608040199,
          0.316582914572864,
          0.3467336683417086,
          0.37688442211055273,
          0.40703517587939686,
          0.437185929648241,
          0.4673366834170851,
          0.4974874371859297,
          0.5276381909547738,
          0.557788944723618,
          0.5879396984924621,
          0.6180904522613062,
          0.6482412060301508,
          0.6783919597989949,
          0.708542713567839,
          0.7386934673366832,
          0.7688442211055273,
          0.7989949748743719,
          0.829145728643216,
          0.8592964824120601,
          0.8894472361809043,
          0.9195979899497484,
          0.949748743718593,
          0.9798994974874371,
          1.0100502512562812,
          1.0402010050251258,
          1.0703517587939695,
          1.100502512562814,
          1.1306532663316577,
          1.1608040201005023,
          1.190954773869347,
          1.2211055276381906,
          1.2512562814070352,
          1.2814070351758788,
          1.3115577889447234,
          1.341708542713568,
          1.3718592964824117,
          1.4020100502512562,
          1.4321608040201,
          1.4623115577889445,
          1.492462311557789,
          1.5226130653266328,
          1.5527638190954773,
          1.582914572864321,
          1.6130653266331656,
          1.6432160804020102,
          1.6733668341708539,
          1.7035175879396984,
          1.7336683417085421,
          1.7638190954773867,
          1.7939698492462313,
          1.824120603015075,
          1.8542713567839195,
          1.8844221105527632,
          1.9145728643216078,
          1.9447236180904524,
          1.974874371859296,
          2.0050251256281406,
          2.0351758793969843,
          2.065326633165829,
          2.0954773869346734,
          2.125628140703517,
          2.1557788944723617,
          2.1859296482412054,
          2.21608040201005,
          2.2462311557788945,
          2.2763819095477382,
          2.306532663316583,
          2.3366834170854265,
          2.366834170854271,
          2.3969849246231156,
          2.4271356783919593,
          2.457286432160804,
          2.4874371859296476,
          2.517587939698492,
          2.5477386934673367,
          2.5778894472361804,
          2.608040201005025,
          2.6381909547738687,
          2.6683417085427132,
          2.698492462311558,
          2.7286432160804015,
          2.758793969849246,
          2.7889447236180906,
          2.8190954773869343,
          2.849246231155779,
          2.8793969849246226,
          2.909547738693467,
          2.9396984924623117,
          2.9698492462311554,
          3
         ],
         "y": [
          6,
          6,
          6,
          6,
          6,
          6,
          6,
          6,
          6,
          6,
          6,
          6,
          6,
          6,
          6,
          6,
          6,
          6,
          6,
          6,
          6,
          6,
          6,
          6,
          6,
          6,
          6,
          6,
          6,
          6,
          6,
          6,
          6,
          6,
          6,
          6,
          6,
          6,
          6,
          6,
          6,
          6,
          6,
          6,
          6,
          6,
          6,
          6,
          6,
          6,
          6,
          6,
          6,
          6,
          6,
          6,
          6,
          6,
          6,
          6,
          6,
          6,
          6,
          6,
          6,
          6,
          6,
          6,
          6,
          6,
          6,
          6,
          6,
          6,
          6,
          6,
          6,
          6,
          6,
          6,
          6,
          6,
          6,
          6,
          6,
          6,
          6,
          6,
          6,
          6,
          6,
          6,
          6,
          6,
          6,
          6,
          6,
          6,
          6,
          6,
          6,
          6,
          6,
          6,
          6,
          6,
          6,
          6,
          6,
          6,
          6,
          6,
          6,
          6,
          6,
          6,
          6,
          6,
          6,
          6,
          6,
          6,
          6,
          6,
          6,
          6,
          6,
          6,
          6,
          6,
          6,
          6,
          6,
          6,
          6,
          6,
          6,
          6,
          6,
          6,
          6,
          6,
          6,
          6,
          6,
          6,
          6,
          6,
          6,
          6,
          6,
          6,
          6,
          6,
          6,
          6,
          6,
          6,
          6,
          6,
          6,
          6,
          6,
          6,
          6,
          6,
          6,
          6,
          6,
          6,
          6,
          6,
          6,
          6,
          6,
          6,
          6,
          6,
          6,
          6,
          6,
          6,
          6,
          6,
          6,
          6,
          6,
          6,
          6,
          6,
          6,
          6,
          6,
          6,
          6,
          6,
          6,
          6,
          6,
          6
         ]
        }
       ],
       "layout": {
        "hovermode": "x unified",
        "showlegend": true,
        "template": {
         "data": {
          "bar": [
           {
            "error_x": {
             "color": "#2a3f5f"
            },
            "error_y": {
             "color": "#2a3f5f"
            },
            "marker": {
             "line": {
              "color": "#E5ECF6",
              "width": 0.5
             },
             "pattern": {
              "fillmode": "overlay",
              "size": 10,
              "solidity": 0.2
             }
            },
            "type": "bar"
           }
          ],
          "barpolar": [
           {
            "marker": {
             "line": {
              "color": "#E5ECF6",
              "width": 0.5
             },
             "pattern": {
              "fillmode": "overlay",
              "size": 10,
              "solidity": 0.2
             }
            },
            "type": "barpolar"
           }
          ],
          "carpet": [
           {
            "aaxis": {
             "endlinecolor": "#2a3f5f",
             "gridcolor": "white",
             "linecolor": "white",
             "minorgridcolor": "white",
             "startlinecolor": "#2a3f5f"
            },
            "baxis": {
             "endlinecolor": "#2a3f5f",
             "gridcolor": "white",
             "linecolor": "white",
             "minorgridcolor": "white",
             "startlinecolor": "#2a3f5f"
            },
            "type": "carpet"
           }
          ],
          "choropleth": [
           {
            "colorbar": {
             "outlinewidth": 0,
             "ticks": ""
            },
            "type": "choropleth"
           }
          ],
          "contour": [
           {
            "colorbar": {
             "outlinewidth": 0,
             "ticks": ""
            },
            "colorscale": [
             [
              0,
              "#0d0887"
             ],
             [
              0.1111111111111111,
              "#46039f"
             ],
             [
              0.2222222222222222,
              "#7201a8"
             ],
             [
              0.3333333333333333,
              "#9c179e"
             ],
             [
              0.4444444444444444,
              "#bd3786"
             ],
             [
              0.5555555555555556,
              "#d8576b"
             ],
             [
              0.6666666666666666,
              "#ed7953"
             ],
             [
              0.7777777777777778,
              "#fb9f3a"
             ],
             [
              0.8888888888888888,
              "#fdca26"
             ],
             [
              1,
              "#f0f921"
             ]
            ],
            "type": "contour"
           }
          ],
          "contourcarpet": [
           {
            "colorbar": {
             "outlinewidth": 0,
             "ticks": ""
            },
            "type": "contourcarpet"
           }
          ],
          "heatmap": [
           {
            "colorbar": {
             "outlinewidth": 0,
             "ticks": ""
            },
            "colorscale": [
             [
              0,
              "#0d0887"
             ],
             [
              0.1111111111111111,
              "#46039f"
             ],
             [
              0.2222222222222222,
              "#7201a8"
             ],
             [
              0.3333333333333333,
              "#9c179e"
             ],
             [
              0.4444444444444444,
              "#bd3786"
             ],
             [
              0.5555555555555556,
              "#d8576b"
             ],
             [
              0.6666666666666666,
              "#ed7953"
             ],
             [
              0.7777777777777778,
              "#fb9f3a"
             ],
             [
              0.8888888888888888,
              "#fdca26"
             ],
             [
              1,
              "#f0f921"
             ]
            ],
            "type": "heatmap"
           }
          ],
          "heatmapgl": [
           {
            "colorbar": {
             "outlinewidth": 0,
             "ticks": ""
            },
            "colorscale": [
             [
              0,
              "#0d0887"
             ],
             [
              0.1111111111111111,
              "#46039f"
             ],
             [
              0.2222222222222222,
              "#7201a8"
             ],
             [
              0.3333333333333333,
              "#9c179e"
             ],
             [
              0.4444444444444444,
              "#bd3786"
             ],
             [
              0.5555555555555556,
              "#d8576b"
             ],
             [
              0.6666666666666666,
              "#ed7953"
             ],
             [
              0.7777777777777778,
              "#fb9f3a"
             ],
             [
              0.8888888888888888,
              "#fdca26"
             ],
             [
              1,
              "#f0f921"
             ]
            ],
            "type": "heatmapgl"
           }
          ],
          "histogram": [
           {
            "marker": {
             "pattern": {
              "fillmode": "overlay",
              "size": 10,
              "solidity": 0.2
             }
            },
            "type": "histogram"
           }
          ],
          "histogram2d": [
           {
            "colorbar": {
             "outlinewidth": 0,
             "ticks": ""
            },
            "colorscale": [
             [
              0,
              "#0d0887"
             ],
             [
              0.1111111111111111,
              "#46039f"
             ],
             [
              0.2222222222222222,
              "#7201a8"
             ],
             [
              0.3333333333333333,
              "#9c179e"
             ],
             [
              0.4444444444444444,
              "#bd3786"
             ],
             [
              0.5555555555555556,
              "#d8576b"
             ],
             [
              0.6666666666666666,
              "#ed7953"
             ],
             [
              0.7777777777777778,
              "#fb9f3a"
             ],
             [
              0.8888888888888888,
              "#fdca26"
             ],
             [
              1,
              "#f0f921"
             ]
            ],
            "type": "histogram2d"
           }
          ],
          "histogram2dcontour": [
           {
            "colorbar": {
             "outlinewidth": 0,
             "ticks": ""
            },
            "colorscale": [
             [
              0,
              "#0d0887"
             ],
             [
              0.1111111111111111,
              "#46039f"
             ],
             [
              0.2222222222222222,
              "#7201a8"
             ],
             [
              0.3333333333333333,
              "#9c179e"
             ],
             [
              0.4444444444444444,
              "#bd3786"
             ],
             [
              0.5555555555555556,
              "#d8576b"
             ],
             [
              0.6666666666666666,
              "#ed7953"
             ],
             [
              0.7777777777777778,
              "#fb9f3a"
             ],
             [
              0.8888888888888888,
              "#fdca26"
             ],
             [
              1,
              "#f0f921"
             ]
            ],
            "type": "histogram2dcontour"
           }
          ],
          "mesh3d": [
           {
            "colorbar": {
             "outlinewidth": 0,
             "ticks": ""
            },
            "type": "mesh3d"
           }
          ],
          "parcoords": [
           {
            "line": {
             "colorbar": {
              "outlinewidth": 0,
              "ticks": ""
             }
            },
            "type": "parcoords"
           }
          ],
          "pie": [
           {
            "automargin": true,
            "type": "pie"
           }
          ],
          "scatter": [
           {
            "fillpattern": {
             "fillmode": "overlay",
             "size": 10,
             "solidity": 0.2
            },
            "type": "scatter"
           }
          ],
          "scatter3d": [
           {
            "line": {
             "colorbar": {
              "outlinewidth": 0,
              "ticks": ""
             }
            },
            "marker": {
             "colorbar": {
              "outlinewidth": 0,
              "ticks": ""
             }
            },
            "type": "scatter3d"
           }
          ],
          "scattercarpet": [
           {
            "marker": {
             "colorbar": {
              "outlinewidth": 0,
              "ticks": ""
             }
            },
            "type": "scattercarpet"
           }
          ],
          "scattergeo": [
           {
            "marker": {
             "colorbar": {
              "outlinewidth": 0,
              "ticks": ""
             }
            },
            "type": "scattergeo"
           }
          ],
          "scattergl": [
           {
            "marker": {
             "colorbar": {
              "outlinewidth": 0,
              "ticks": ""
             }
            },
            "type": "scattergl"
           }
          ],
          "scattermapbox": [
           {
            "marker": {
             "colorbar": {
              "outlinewidth": 0,
              "ticks": ""
             }
            },
            "type": "scattermapbox"
           }
          ],
          "scatterpolar": [
           {
            "marker": {
             "colorbar": {
              "outlinewidth": 0,
              "ticks": ""
             }
            },
            "type": "scatterpolar"
           }
          ],
          "scatterpolargl": [
           {
            "marker": {
             "colorbar": {
              "outlinewidth": 0,
              "ticks": ""
             }
            },
            "type": "scatterpolargl"
           }
          ],
          "scatterternary": [
           {
            "marker": {
             "colorbar": {
              "outlinewidth": 0,
              "ticks": ""
             }
            },
            "type": "scatterternary"
           }
          ],
          "surface": [
           {
            "colorbar": {
             "outlinewidth": 0,
             "ticks": ""
            },
            "colorscale": [
             [
              0,
              "#0d0887"
             ],
             [
              0.1111111111111111,
              "#46039f"
             ],
             [
              0.2222222222222222,
              "#7201a8"
             ],
             [
              0.3333333333333333,
              "#9c179e"
             ],
             [
              0.4444444444444444,
              "#bd3786"
             ],
             [
              0.5555555555555556,
              "#d8576b"
             ],
             [
              0.6666666666666666,
              "#ed7953"
             ],
             [
              0.7777777777777778,
              "#fb9f3a"
             ],
             [
              0.8888888888888888,
              "#fdca26"
             ],
             [
              1,
              "#f0f921"
             ]
            ],
            "type": "surface"
           }
          ],
          "table": [
           {
            "cells": {
             "fill": {
              "color": "#EBF0F8"
             },
             "line": {
              "color": "white"
             }
            },
            "header": {
             "fill": {
              "color": "#C8D4E3"
             },
             "line": {
              "color": "white"
             }
            },
            "type": "table"
           }
          ]
         },
         "layout": {
          "annotationdefaults": {
           "arrowcolor": "#2a3f5f",
           "arrowhead": 0,
           "arrowwidth": 1
          },
          "autotypenumbers": "strict",
          "coloraxis": {
           "colorbar": {
            "outlinewidth": 0,
            "ticks": ""
           }
          },
          "colorscale": {
           "diverging": [
            [
             0,
             "#8e0152"
            ],
            [
             0.1,
             "#c51b7d"
            ],
            [
             0.2,
             "#de77ae"
            ],
            [
             0.3,
             "#f1b6da"
            ],
            [
             0.4,
             "#fde0ef"
            ],
            [
             0.5,
             "#f7f7f7"
            ],
            [
             0.6,
             "#e6f5d0"
            ],
            [
             0.7,
             "#b8e186"
            ],
            [
             0.8,
             "#7fbc41"
            ],
            [
             0.9,
             "#4d9221"
            ],
            [
             1,
             "#276419"
            ]
           ],
           "sequential": [
            [
             0,
             "#0d0887"
            ],
            [
             0.1111111111111111,
             "#46039f"
            ],
            [
             0.2222222222222222,
             "#7201a8"
            ],
            [
             0.3333333333333333,
             "#9c179e"
            ],
            [
             0.4444444444444444,
             "#bd3786"
            ],
            [
             0.5555555555555556,
             "#d8576b"
            ],
            [
             0.6666666666666666,
             "#ed7953"
            ],
            [
             0.7777777777777778,
             "#fb9f3a"
            ],
            [
             0.8888888888888888,
             "#fdca26"
            ],
            [
             1,
             "#f0f921"
            ]
           ],
           "sequentialminus": [
            [
             0,
             "#0d0887"
            ],
            [
             0.1111111111111111,
             "#46039f"
            ],
            [
             0.2222222222222222,
             "#7201a8"
            ],
            [
             0.3333333333333333,
             "#9c179e"
            ],
            [
             0.4444444444444444,
             "#bd3786"
            ],
            [
             0.5555555555555556,
             "#d8576b"
            ],
            [
             0.6666666666666666,
             "#ed7953"
            ],
            [
             0.7777777777777778,
             "#fb9f3a"
            ],
            [
             0.8888888888888888,
             "#fdca26"
            ],
            [
             1,
             "#f0f921"
            ]
           ]
          },
          "colorway": [
           "#636efa",
           "#EF553B",
           "#00cc96",
           "#ab63fa",
           "#FFA15A",
           "#19d3f3",
           "#FF6692",
           "#B6E880",
           "#FF97FF",
           "#FECB52"
          ],
          "font": {
           "color": "#2a3f5f"
          },
          "geo": {
           "bgcolor": "white",
           "lakecolor": "white",
           "landcolor": "#E5ECF6",
           "showlakes": true,
           "showland": true,
           "subunitcolor": "white"
          },
          "hoverlabel": {
           "align": "left"
          },
          "hovermode": "closest",
          "mapbox": {
           "style": "light"
          },
          "paper_bgcolor": "white",
          "plot_bgcolor": "#E5ECF6",
          "polar": {
           "angularaxis": {
            "gridcolor": "white",
            "linecolor": "white",
            "ticks": ""
           },
           "bgcolor": "#E5ECF6",
           "radialaxis": {
            "gridcolor": "white",
            "linecolor": "white",
            "ticks": ""
           }
          },
          "scene": {
           "xaxis": {
            "backgroundcolor": "#E5ECF6",
            "gridcolor": "white",
            "gridwidth": 2,
            "linecolor": "white",
            "showbackground": true,
            "ticks": "",
            "zerolinecolor": "white"
           },
           "yaxis": {
            "backgroundcolor": "#E5ECF6",
            "gridcolor": "white",
            "gridwidth": 2,
            "linecolor": "white",
            "showbackground": true,
            "ticks": "",
            "zerolinecolor": "white"
           },
           "zaxis": {
            "backgroundcolor": "#E5ECF6",
            "gridcolor": "white",
            "gridwidth": 2,
            "linecolor": "white",
            "showbackground": true,
            "ticks": "",
            "zerolinecolor": "white"
           }
          },
          "shapedefaults": {
           "line": {
            "color": "#2a3f5f"
           }
          },
          "ternary": {
           "aaxis": {
            "gridcolor": "white",
            "linecolor": "white",
            "ticks": ""
           },
           "baxis": {
            "gridcolor": "white",
            "linecolor": "white",
            "ticks": ""
           },
           "bgcolor": "#E5ECF6",
           "caxis": {
            "gridcolor": "white",
            "linecolor": "white",
            "ticks": ""
           }
          },
          "title": {
           "x": 0.05
          },
          "xaxis": {
           "automargin": true,
           "gridcolor": "white",
           "linecolor": "white",
           "ticks": "",
           "title": {
            "standoff": 15
           },
           "zerolinecolor": "white",
           "zerolinewidth": 2
          },
          "yaxis": {
           "automargin": true,
           "gridcolor": "white",
           "linecolor": "white",
           "ticks": "",
           "title": {
            "standoff": 15
           },
           "zerolinecolor": "white",
           "zerolinewidth": 2
          }
         }
        },
        "title": {
         "text": "x² + 2 = 6"
        },
        "xaxis": {
         "gridcolor": "lightgrey",
         "title": {
          "text": "x"
         },
         "zeroline": true,
         "zerolinecolor": "black"
        },
        "yaxis": {
         "gridcolor": "lightgrey",
         "title": {
          "text": "y"
         },
         "zeroline": true,
         "zerolinecolor": "black"
        }
       }
      },
      "text/html": [
       "<div>                            <div id=\"1216a427-f88a-41c3-803c-fa00e6ae97f2\" class=\"plotly-graph-div\" style=\"height:525px; width:100%;\"></div>            <script type=\"text/javascript\">                require([\"plotly\"], function(Plotly) {                    window.PLOTLYENV=window.PLOTLYENV || {};                                    if (document.getElementById(\"1216a427-f88a-41c3-803c-fa00e6ae97f2\")) {                    Plotly.newPlot(                        \"1216a427-f88a-41c3-803c-fa00e6ae97f2\",                        [{\"line\":{\"color\":\"blue\"},\"mode\":\"lines\",\"name\":\"x² + 2\",\"x\":[-3.0,-2.969849246231156,-2.9396984924623117,-2.909547738693467,-2.879396984924623,-2.849246231155779,-2.819095477386935,-2.7889447236180906,-2.758793969849246,-2.728643216080402,-2.698492462311558,-2.6683417085427137,-2.6381909547738696,-2.608040201005025,-2.577889447236181,-2.5477386934673367,-2.5175879396984926,-2.4874371859296485,-2.457286432160804,-2.4271356783919598,-2.3969849246231156,-2.3668341708542715,-2.3366834170854274,-2.306532663316583,-2.2763819095477387,-2.2462311557788945,-2.2160804020100504,-2.1859296482412063,-2.1557788944723617,-2.1256281407035176,-2.0954773869346734,-2.0653266331658293,-2.035175879396985,-2.0050251256281406,-1.9748743718592965,-1.9447236180904524,-1.914572864321608,-1.8844221105527639,-1.8542713567839197,-1.8241206030150754,-1.7939698492462313,-1.763819095477387,-1.7336683417085428,-1.7035175879396987,-1.6733668341708543,-1.6432160804020102,-1.6130653266331658,-1.5829145728643217,-1.5527638190954773,-1.5226130653266332,-1.492462311557789,-1.4623115577889447,-1.4321608040201006,-1.4020100502512562,-1.3718592964824121,-1.341708542713568,-1.3115577889447236,-1.2814070351758795,-1.2512562814070352,-1.221105527638191,-1.190954773869347,-1.1608040201005025,-1.1306532663316584,-1.100502512562814,-1.07035175879397,-1.0402010050251258,-1.0100502512562815,-0.9798994974874371,-0.949748743718593,-0.9195979899497488,-0.8894472361809047,-0.8592964824120606,-0.829145728643216,-0.7989949748743719,-0.7688442211055277,-0.7386934673366836,-0.7085427135678395,-0.6783919597989949,-0.6482412060301508,-0.6180904522613067,-0.5879396984924625,-0.5577889447236184,-0.5276381909547738,-0.4974874371859297,-0.46733668341708556,-0.43718592964824143,-0.4070351758793973,-0.37688442211055273,-0.3467336683417086,-0.31658291457286447,-0.28643216080402034,-0.2562814070351762,-0.22613065326633164,-0.1959798994974875,-0.16582914572864338,-0.13567839195979925,-0.10552763819095468,-0.07537688442211055,-0.045226130653266416,-0.015075376884422287,0.015075376884421843,0.045226130653266416,0.07537688442211055,0.10552763819095468,0.1356783919597988,0.16582914572864293,0.1959798994974875,0.22613065326633164,0.25628140703517577,0.2864321608040199,0.316582914572864,0.3467336683417086,0.37688442211055273,0.40703517587939686,0.437185929648241,0.4673366834170851,0.4974874371859297,0.5276381909547738,0.557788944723618,0.5879396984924621,0.6180904522613062,0.6482412060301508,0.6783919597989949,0.708542713567839,0.7386934673366832,0.7688442211055273,0.7989949748743719,0.829145728643216,0.8592964824120601,0.8894472361809043,0.9195979899497484,0.949748743718593,0.9798994974874371,1.0100502512562812,1.0402010050251258,1.0703517587939695,1.100502512562814,1.1306532663316577,1.1608040201005023,1.190954773869347,1.2211055276381906,1.2512562814070352,1.2814070351758788,1.3115577889447234,1.341708542713568,1.3718592964824117,1.4020100502512562,1.4321608040201,1.4623115577889445,1.492462311557789,1.5226130653266328,1.5527638190954773,1.582914572864321,1.6130653266331656,1.6432160804020102,1.6733668341708539,1.7035175879396984,1.7336683417085421,1.7638190954773867,1.7939698492462313,1.824120603015075,1.8542713567839195,1.8844221105527632,1.9145728643216078,1.9447236180904524,1.974874371859296,2.0050251256281406,2.0351758793969843,2.065326633165829,2.0954773869346734,2.125628140703517,2.1557788944723617,2.1859296482412054,2.21608040201005,2.2462311557788945,2.2763819095477382,2.306532663316583,2.3366834170854265,2.366834170854271,2.3969849246231156,2.4271356783919593,2.457286432160804,2.4874371859296476,2.517587939698492,2.5477386934673367,2.5778894472361804,2.608040201005025,2.6381909547738687,2.6683417085427132,2.698492462311558,2.7286432160804015,2.758793969849246,2.7889447236180906,2.8190954773869343,2.849246231155779,2.8793969849246226,2.909547738693467,2.9396984924623117,2.9698492462311554,3.0],\"y\":[11.0,10.820004545339765,10.641827226585189,10.465468043736267,10.29092699679301,10.11820408575541,9.94729931062347,9.778212671397188,9.610944168076564,9.445493800661598,9.281861569152294,9.120047473548649,8.960051513850662,8.801873690058331,8.645514002171662,8.490972450190652,8.3382490341153,8.187343753945608,8.038256609681573,7.890987601323198,7.7455367288704835,7.601903992323427,7.460089391682029,7.320092926946288,7.181914598116209,7.045554405191789,6.911012348173027,6.778288427059924,6.647382641852478,6.518294992550693,6.3910254791545675,6.2655741016641,6.141940860079292,6.020125754400141,5.90012878462665,5.78194995075882,5.6655892527966465,5.551046690740133,5.438322264589279,5.327415974344082,5.2183278200045455,5.111057801570667,5.0056059190424484,4.901972172419889,4.8001565617029875,4.7001590868917456,4.601979747986162,4.505618544986238,4.411075477891972,4.318350546703366,4.227443751420419,4.13835509204313,4.0510845685715005,3.96563218100553,3.8819979293452187,3.8001818135905663,3.7201838337415722,3.642003989798238,3.5656422817605615,3.491098709628545,3.418373273402187,3.347465973081488,3.278376808666448,3.211105780157067,3.1456528875533447,3.082018130855282,3.0202015100628774,2.9602030251761318,2.9020226761950454,2.8456604631196183,2.79111638594985,2.7383904446857406,2.6874826393272895,2.638392969874498,2.5911214363273656,2.545668038685892,2.5020327769500774,2.4602156511199214,2.4202166611954246,2.3820358071765866,2.345673089063408,2.311128506855888,2.2784020605540265,2.2474937501578243,2.2184035756672813,2.191131537082397,2.165677634403172,2.1420418676296054,2.120224236761698,2.1002247417994497,2.08204338274286,2.06568015959193,2.051135072346658,2.0384081210070453,2.0274993055730914,2.018408626044797,2.011136082422161,2.005681674705184,2.002045402893866,2.0002272669882073,2.0002272669882073,2.002045402893866,2.005681674705184,2.011136082422161,2.018408626044797,2.0274993055730914,2.0384081210070453,2.051135072346658,2.0656801595919294,2.0820433827428597,2.1002247417994493,2.120224236761698,2.1420418676296054,2.1656776344031714,2.1911315370823967,2.218403575667281,2.2474937501578243,2.2784020605540265,2.311128506855887,2.345673089063407,2.382035807176586,2.4202166611954246,2.4602156511199214,2.5020327769500765,2.5456680386858914,2.5911214363273647,2.638392969874498,2.6874826393272895,2.73839044468574,2.7911163859498496,2.8456604631196174,2.9020226761950454,2.9602030251761318,3.0202015100628765,3.082018130855282,3.145652887553344,3.211105780157067,3.2783768086664464,3.347465973081487,3.418373273402187,3.4910987096285435,3.5656422817605615,3.642003989798236,3.7201838337415714,3.8001818135905663,3.881997929345218,3.96563218100553,4.051084568571499,4.138355092043129,4.227443751420419,4.318350546703365,4.411075477891972,4.505618544986236,4.601979747986161,4.7001590868917456,4.800156561702986,4.901972172419889,5.005605919042447,5.1110578015706665,5.2183278200045455,5.327415974344081,5.438322264589278,5.55104669074013,5.665589252796646,5.78194995075882,5.900128784626649,6.020125754400141,6.141940860079289,6.2655741016640984,6.3910254791545675,6.5182949925506914,6.647382641852478,6.77828842705992,6.911012348173025,7.045554405191789,7.181914598116207,7.320092926946288,7.4600893916820255,7.601903992323424,7.7455367288704835,7.8909876013231965,8.038256609681573,8.187343753945605,8.338249034115298,8.490972450190652,8.645514002171659,8.801873690058331,8.960051513850658,9.120047473548645,9.281861569152294,9.445493800661596,9.610944168076564,9.778212671397188,9.947299310623468,10.11820408575541,10.290926996793008,10.465468043736267,10.641827226585189,10.820004545339762,11.0],\"type\":\"scatter\"},{\"line\":{\"color\":\"red\"},\"mode\":\"lines\",\"name\":\"6\",\"x\":[-3.0,-2.969849246231156,-2.9396984924623117,-2.909547738693467,-2.879396984924623,-2.849246231155779,-2.819095477386935,-2.7889447236180906,-2.758793969849246,-2.728643216080402,-2.698492462311558,-2.6683417085427137,-2.6381909547738696,-2.608040201005025,-2.577889447236181,-2.5477386934673367,-2.5175879396984926,-2.4874371859296485,-2.457286432160804,-2.4271356783919598,-2.3969849246231156,-2.3668341708542715,-2.3366834170854274,-2.306532663316583,-2.2763819095477387,-2.2462311557788945,-2.2160804020100504,-2.1859296482412063,-2.1557788944723617,-2.1256281407035176,-2.0954773869346734,-2.0653266331658293,-2.035175879396985,-2.0050251256281406,-1.9748743718592965,-1.9447236180904524,-1.914572864321608,-1.8844221105527639,-1.8542713567839197,-1.8241206030150754,-1.7939698492462313,-1.763819095477387,-1.7336683417085428,-1.7035175879396987,-1.6733668341708543,-1.6432160804020102,-1.6130653266331658,-1.5829145728643217,-1.5527638190954773,-1.5226130653266332,-1.492462311557789,-1.4623115577889447,-1.4321608040201006,-1.4020100502512562,-1.3718592964824121,-1.341708542713568,-1.3115577889447236,-1.2814070351758795,-1.2512562814070352,-1.221105527638191,-1.190954773869347,-1.1608040201005025,-1.1306532663316584,-1.100502512562814,-1.07035175879397,-1.0402010050251258,-1.0100502512562815,-0.9798994974874371,-0.949748743718593,-0.9195979899497488,-0.8894472361809047,-0.8592964824120606,-0.829145728643216,-0.7989949748743719,-0.7688442211055277,-0.7386934673366836,-0.7085427135678395,-0.6783919597989949,-0.6482412060301508,-0.6180904522613067,-0.5879396984924625,-0.5577889447236184,-0.5276381909547738,-0.4974874371859297,-0.46733668341708556,-0.43718592964824143,-0.4070351758793973,-0.37688442211055273,-0.3467336683417086,-0.31658291457286447,-0.28643216080402034,-0.2562814070351762,-0.22613065326633164,-0.1959798994974875,-0.16582914572864338,-0.13567839195979925,-0.10552763819095468,-0.07537688442211055,-0.045226130653266416,-0.015075376884422287,0.015075376884421843,0.045226130653266416,0.07537688442211055,0.10552763819095468,0.1356783919597988,0.16582914572864293,0.1959798994974875,0.22613065326633164,0.25628140703517577,0.2864321608040199,0.316582914572864,0.3467336683417086,0.37688442211055273,0.40703517587939686,0.437185929648241,0.4673366834170851,0.4974874371859297,0.5276381909547738,0.557788944723618,0.5879396984924621,0.6180904522613062,0.6482412060301508,0.6783919597989949,0.708542713567839,0.7386934673366832,0.7688442211055273,0.7989949748743719,0.829145728643216,0.8592964824120601,0.8894472361809043,0.9195979899497484,0.949748743718593,0.9798994974874371,1.0100502512562812,1.0402010050251258,1.0703517587939695,1.100502512562814,1.1306532663316577,1.1608040201005023,1.190954773869347,1.2211055276381906,1.2512562814070352,1.2814070351758788,1.3115577889447234,1.341708542713568,1.3718592964824117,1.4020100502512562,1.4321608040201,1.4623115577889445,1.492462311557789,1.5226130653266328,1.5527638190954773,1.582914572864321,1.6130653266331656,1.6432160804020102,1.6733668341708539,1.7035175879396984,1.7336683417085421,1.7638190954773867,1.7939698492462313,1.824120603015075,1.8542713567839195,1.8844221105527632,1.9145728643216078,1.9447236180904524,1.974874371859296,2.0050251256281406,2.0351758793969843,2.065326633165829,2.0954773869346734,2.125628140703517,2.1557788944723617,2.1859296482412054,2.21608040201005,2.2462311557788945,2.2763819095477382,2.306532663316583,2.3366834170854265,2.366834170854271,2.3969849246231156,2.4271356783919593,2.457286432160804,2.4874371859296476,2.517587939698492,2.5477386934673367,2.5778894472361804,2.608040201005025,2.6381909547738687,2.6683417085427132,2.698492462311558,2.7286432160804015,2.758793969849246,2.7889447236180906,2.8190954773869343,2.849246231155779,2.8793969849246226,2.909547738693467,2.9396984924623117,2.9698492462311554,3.0],\"y\":[6.0,6.0,6.0,6.0,6.0,6.0,6.0,6.0,6.0,6.0,6.0,6.0,6.0,6.0,6.0,6.0,6.0,6.0,6.0,6.0,6.0,6.0,6.0,6.0,6.0,6.0,6.0,6.0,6.0,6.0,6.0,6.0,6.0,6.0,6.0,6.0,6.0,6.0,6.0,6.0,6.0,6.0,6.0,6.0,6.0,6.0,6.0,6.0,6.0,6.0,6.0,6.0,6.0,6.0,6.0,6.0,6.0,6.0,6.0,6.0,6.0,6.0,6.0,6.0,6.0,6.0,6.0,6.0,6.0,6.0,6.0,6.0,6.0,6.0,6.0,6.0,6.0,6.0,6.0,6.0,6.0,6.0,6.0,6.0,6.0,6.0,6.0,6.0,6.0,6.0,6.0,6.0,6.0,6.0,6.0,6.0,6.0,6.0,6.0,6.0,6.0,6.0,6.0,6.0,6.0,6.0,6.0,6.0,6.0,6.0,6.0,6.0,6.0,6.0,6.0,6.0,6.0,6.0,6.0,6.0,6.0,6.0,6.0,6.0,6.0,6.0,6.0,6.0,6.0,6.0,6.0,6.0,6.0,6.0,6.0,6.0,6.0,6.0,6.0,6.0,6.0,6.0,6.0,6.0,6.0,6.0,6.0,6.0,6.0,6.0,6.0,6.0,6.0,6.0,6.0,6.0,6.0,6.0,6.0,6.0,6.0,6.0,6.0,6.0,6.0,6.0,6.0,6.0,6.0,6.0,6.0,6.0,6.0,6.0,6.0,6.0,6.0,6.0,6.0,6.0,6.0,6.0,6.0,6.0,6.0,6.0,6.0,6.0,6.0,6.0,6.0,6.0,6.0,6.0,6.0,6.0,6.0,6.0,6.0,6.0],\"type\":\"scatter\"}],                        {\"template\":{\"data\":{\"histogram2dcontour\":[{\"type\":\"histogram2dcontour\",\"colorbar\":{\"outlinewidth\":0,\"ticks\":\"\"},\"colorscale\":[[0.0,\"#0d0887\"],[0.1111111111111111,\"#46039f\"],[0.2222222222222222,\"#7201a8\"],[0.3333333333333333,\"#9c179e\"],[0.4444444444444444,\"#bd3786\"],[0.5555555555555556,\"#d8576b\"],[0.6666666666666666,\"#ed7953\"],[0.7777777777777778,\"#fb9f3a\"],[0.8888888888888888,\"#fdca26\"],[1.0,\"#f0f921\"]]}],\"choropleth\":[{\"type\":\"choropleth\",\"colorbar\":{\"outlinewidth\":0,\"ticks\":\"\"}}],\"histogram2d\":[{\"type\":\"histogram2d\",\"colorbar\":{\"outlinewidth\":0,\"ticks\":\"\"},\"colorscale\":[[0.0,\"#0d0887\"],[0.1111111111111111,\"#46039f\"],[0.2222222222222222,\"#7201a8\"],[0.3333333333333333,\"#9c179e\"],[0.4444444444444444,\"#bd3786\"],[0.5555555555555556,\"#d8576b\"],[0.6666666666666666,\"#ed7953\"],[0.7777777777777778,\"#fb9f3a\"],[0.8888888888888888,\"#fdca26\"],[1.0,\"#f0f921\"]]}],\"heatmap\":[{\"type\":\"heatmap\",\"colorbar\":{\"outlinewidth\":0,\"ticks\":\"\"},\"colorscale\":[[0.0,\"#0d0887\"],[0.1111111111111111,\"#46039f\"],[0.2222222222222222,\"#7201a8\"],[0.3333333333333333,\"#9c179e\"],[0.4444444444444444,\"#bd3786\"],[0.5555555555555556,\"#d8576b\"],[0.6666666666666666,\"#ed7953\"],[0.7777777777777778,\"#fb9f3a\"],[0.8888888888888888,\"#fdca26\"],[1.0,\"#f0f921\"]]}],\"heatmapgl\":[{\"type\":\"heatmapgl\",\"colorbar\":{\"outlinewidth\":0,\"ticks\":\"\"},\"colorscale\":[[0.0,\"#0d0887\"],[0.1111111111111111,\"#46039f\"],[0.2222222222222222,\"#7201a8\"],[0.3333333333333333,\"#9c179e\"],[0.4444444444444444,\"#bd3786\"],[0.5555555555555556,\"#d8576b\"],[0.6666666666666666,\"#ed7953\"],[0.7777777777777778,\"#fb9f3a\"],[0.8888888888888888,\"#fdca26\"],[1.0,\"#f0f921\"]]}],\"contourcarpet\":[{\"type\":\"contourcarpet\",\"colorbar\":{\"outlinewidth\":0,\"ticks\":\"\"}}],\"contour\":[{\"type\":\"contour\",\"colorbar\":{\"outlinewidth\":0,\"ticks\":\"\"},\"colorscale\":[[0.0,\"#0d0887\"],[0.1111111111111111,\"#46039f\"],[0.2222222222222222,\"#7201a8\"],[0.3333333333333333,\"#9c179e\"],[0.4444444444444444,\"#bd3786\"],[0.5555555555555556,\"#d8576b\"],[0.6666666666666666,\"#ed7953\"],[0.7777777777777778,\"#fb9f3a\"],[0.8888888888888888,\"#fdca26\"],[1.0,\"#f0f921\"]]}],\"surface\":[{\"type\":\"surface\",\"colorbar\":{\"outlinewidth\":0,\"ticks\":\"\"},\"colorscale\":[[0.0,\"#0d0887\"],[0.1111111111111111,\"#46039f\"],[0.2222222222222222,\"#7201a8\"],[0.3333333333333333,\"#9c179e\"],[0.4444444444444444,\"#bd3786\"],[0.5555555555555556,\"#d8576b\"],[0.6666666666666666,\"#ed7953\"],[0.7777777777777778,\"#fb9f3a\"],[0.8888888888888888,\"#fdca26\"],[1.0,\"#f0f921\"]]}],\"mesh3d\":[{\"type\":\"mesh3d\",\"colorbar\":{\"outlinewidth\":0,\"ticks\":\"\"}}],\"scatter\":[{\"fillpattern\":{\"fillmode\":\"overlay\",\"size\":10,\"solidity\":0.2},\"type\":\"scatter\"}],\"parcoords\":[{\"type\":\"parcoords\",\"line\":{\"colorbar\":{\"outlinewidth\":0,\"ticks\":\"\"}}}],\"scatterpolargl\":[{\"type\":\"scatterpolargl\",\"marker\":{\"colorbar\":{\"outlinewidth\":0,\"ticks\":\"\"}}}],\"bar\":[{\"error_x\":{\"color\":\"#2a3f5f\"},\"error_y\":{\"color\":\"#2a3f5f\"},\"marker\":{\"line\":{\"color\":\"#E5ECF6\",\"width\":0.5},\"pattern\":{\"fillmode\":\"overlay\",\"size\":10,\"solidity\":0.2}},\"type\":\"bar\"}],\"scattergeo\":[{\"type\":\"scattergeo\",\"marker\":{\"colorbar\":{\"outlinewidth\":0,\"ticks\":\"\"}}}],\"scatterpolar\":[{\"type\":\"scatterpolar\",\"marker\":{\"colorbar\":{\"outlinewidth\":0,\"ticks\":\"\"}}}],\"histogram\":[{\"marker\":{\"pattern\":{\"fillmode\":\"overlay\",\"size\":10,\"solidity\":0.2}},\"type\":\"histogram\"}],\"scattergl\":[{\"type\":\"scattergl\",\"marker\":{\"colorbar\":{\"outlinewidth\":0,\"ticks\":\"\"}}}],\"scatter3d\":[{\"type\":\"scatter3d\",\"line\":{\"colorbar\":{\"outlinewidth\":0,\"ticks\":\"\"}},\"marker\":{\"colorbar\":{\"outlinewidth\":0,\"ticks\":\"\"}}}],\"scattermapbox\":[{\"type\":\"scattermapbox\",\"marker\":{\"colorbar\":{\"outlinewidth\":0,\"ticks\":\"\"}}}],\"scatterternary\":[{\"type\":\"scatterternary\",\"marker\":{\"colorbar\":{\"outlinewidth\":0,\"ticks\":\"\"}}}],\"scattercarpet\":[{\"type\":\"scattercarpet\",\"marker\":{\"colorbar\":{\"outlinewidth\":0,\"ticks\":\"\"}}}],\"carpet\":[{\"aaxis\":{\"endlinecolor\":\"#2a3f5f\",\"gridcolor\":\"white\",\"linecolor\":\"white\",\"minorgridcolor\":\"white\",\"startlinecolor\":\"#2a3f5f\"},\"baxis\":{\"endlinecolor\":\"#2a3f5f\",\"gridcolor\":\"white\",\"linecolor\":\"white\",\"minorgridcolor\":\"white\",\"startlinecolor\":\"#2a3f5f\"},\"type\":\"carpet\"}],\"table\":[{\"cells\":{\"fill\":{\"color\":\"#EBF0F8\"},\"line\":{\"color\":\"white\"}},\"header\":{\"fill\":{\"color\":\"#C8D4E3\"},\"line\":{\"color\":\"white\"}},\"type\":\"table\"}],\"barpolar\":[{\"marker\":{\"line\":{\"color\":\"#E5ECF6\",\"width\":0.5},\"pattern\":{\"fillmode\":\"overlay\",\"size\":10,\"solidity\":0.2}},\"type\":\"barpolar\"}],\"pie\":[{\"automargin\":true,\"type\":\"pie\"}]},\"layout\":{\"autotypenumbers\":\"strict\",\"colorway\":[\"#636efa\",\"#EF553B\",\"#00cc96\",\"#ab63fa\",\"#FFA15A\",\"#19d3f3\",\"#FF6692\",\"#B6E880\",\"#FF97FF\",\"#FECB52\"],\"font\":{\"color\":\"#2a3f5f\"},\"hovermode\":\"closest\",\"hoverlabel\":{\"align\":\"left\"},\"paper_bgcolor\":\"white\",\"plot_bgcolor\":\"#E5ECF6\",\"polar\":{\"bgcolor\":\"#E5ECF6\",\"angularaxis\":{\"gridcolor\":\"white\",\"linecolor\":\"white\",\"ticks\":\"\"},\"radialaxis\":{\"gridcolor\":\"white\",\"linecolor\":\"white\",\"ticks\":\"\"}},\"ternary\":{\"bgcolor\":\"#E5ECF6\",\"aaxis\":{\"gridcolor\":\"white\",\"linecolor\":\"white\",\"ticks\":\"\"},\"baxis\":{\"gridcolor\":\"white\",\"linecolor\":\"white\",\"ticks\":\"\"},\"caxis\":{\"gridcolor\":\"white\",\"linecolor\":\"white\",\"ticks\":\"\"}},\"coloraxis\":{\"colorbar\":{\"outlinewidth\":0,\"ticks\":\"\"}},\"colorscale\":{\"sequential\":[[0.0,\"#0d0887\"],[0.1111111111111111,\"#46039f\"],[0.2222222222222222,\"#7201a8\"],[0.3333333333333333,\"#9c179e\"],[0.4444444444444444,\"#bd3786\"],[0.5555555555555556,\"#d8576b\"],[0.6666666666666666,\"#ed7953\"],[0.7777777777777778,\"#fb9f3a\"],[0.8888888888888888,\"#fdca26\"],[1.0,\"#f0f921\"]],\"sequentialminus\":[[0.0,\"#0d0887\"],[0.1111111111111111,\"#46039f\"],[0.2222222222222222,\"#7201a8\"],[0.3333333333333333,\"#9c179e\"],[0.4444444444444444,\"#bd3786\"],[0.5555555555555556,\"#d8576b\"],[0.6666666666666666,\"#ed7953\"],[0.7777777777777778,\"#fb9f3a\"],[0.8888888888888888,\"#fdca26\"],[1.0,\"#f0f921\"]],\"diverging\":[[0,\"#8e0152\"],[0.1,\"#c51b7d\"],[0.2,\"#de77ae\"],[0.3,\"#f1b6da\"],[0.4,\"#fde0ef\"],[0.5,\"#f7f7f7\"],[0.6,\"#e6f5d0\"],[0.7,\"#b8e186\"],[0.8,\"#7fbc41\"],[0.9,\"#4d9221\"],[1,\"#276419\"]]},\"xaxis\":{\"gridcolor\":\"white\",\"linecolor\":\"white\",\"ticks\":\"\",\"title\":{\"standoff\":15},\"zerolinecolor\":\"white\",\"automargin\":true,\"zerolinewidth\":2},\"yaxis\":{\"gridcolor\":\"white\",\"linecolor\":\"white\",\"ticks\":\"\",\"title\":{\"standoff\":15},\"zerolinecolor\":\"white\",\"automargin\":true,\"zerolinewidth\":2},\"scene\":{\"xaxis\":{\"backgroundcolor\":\"#E5ECF6\",\"gridcolor\":\"white\",\"linecolor\":\"white\",\"showbackground\":true,\"ticks\":\"\",\"zerolinecolor\":\"white\",\"gridwidth\":2},\"yaxis\":{\"backgroundcolor\":\"#E5ECF6\",\"gridcolor\":\"white\",\"linecolor\":\"white\",\"showbackground\":true,\"ticks\":\"\",\"zerolinecolor\":\"white\",\"gridwidth\":2},\"zaxis\":{\"backgroundcolor\":\"#E5ECF6\",\"gridcolor\":\"white\",\"linecolor\":\"white\",\"showbackground\":true,\"ticks\":\"\",\"zerolinecolor\":\"white\",\"gridwidth\":2}},\"shapedefaults\":{\"line\":{\"color\":\"#2a3f5f\"}},\"annotationdefaults\":{\"arrowcolor\":\"#2a3f5f\",\"arrowhead\":0,\"arrowwidth\":1},\"geo\":{\"bgcolor\":\"white\",\"landcolor\":\"#E5ECF6\",\"subunitcolor\":\"white\",\"showland\":true,\"showlakes\":true,\"lakecolor\":\"white\"},\"title\":{\"x\":0.05},\"mapbox\":{\"style\":\"light\"}}},\"title\":{\"text\":\"x² + 2 = 6\"},\"xaxis\":{\"title\":{\"text\":\"x\"},\"gridcolor\":\"lightgrey\",\"zeroline\":true,\"zerolinecolor\":\"black\"},\"yaxis\":{\"title\":{\"text\":\"y\"},\"gridcolor\":\"lightgrey\",\"zeroline\":true,\"zerolinecolor\":\"black\"},\"showlegend\":true,\"hovermode\":\"x unified\"},                        {\"responsive\": true}                    ).then(function(){\n",
       "                            \n",
       "var gd = document.getElementById('1216a427-f88a-41c3-803c-fa00e6ae97f2');\n",
       "var x = new MutationObserver(function (mutations, observer) {{\n",
       "        var display = window.getComputedStyle(gd).display;\n",
       "        if (!display || display === 'none') {{\n",
       "            console.log([gd, 'removed!']);\n",
       "            Plotly.purge(gd);\n",
       "            observer.disconnect();\n",
       "        }}\n",
       "}});\n",
       "\n",
       "// Listen for the removal of the full notebook cells\n",
       "var notebookContainer = gd.closest('#notebook-container');\n",
       "if (notebookContainer) {{\n",
       "    x.observe(notebookContainer, {childList: true});\n",
       "}}\n",
       "\n",
       "// Listen for the clearing of the current output cell\n",
       "var outputEl = gd.closest('.output');\n",
       "if (outputEl) {{\n",
       "    x.observe(outputEl, {childList: true});\n",
       "}}\n",
       "\n",
       "                        })                };                });            </script>        </div>"
      ]
     },
     "metadata": {},
     "output_type": "display_data"
    }
   ],
   "source": [
    "import numpy as np\n",
    "import plotly.graph_objects as go\n",
    "\n",
    "# Generate x values\n",
    "x = np.linspace(-3, 3, 200)\n",
    "\n",
    "# Calculate y values for x² + 2\n",
    "y1 = x**2 + 2\n",
    "\n",
    "# Create constant line y = 6\n",
    "y2 = np.full_like(x, 6)\n",
    "\n",
    "# Create figure\n",
    "fig = go.Figure()\n",
    "\n",
    "# Add the quadratic function x² + 2\n",
    "fig.add_trace(go.Scatter(\n",
    "    x=x,\n",
    "    y=y1,\n",
    "    name='x² + 2',\n",
    "    mode='lines',\n",
    "    line=dict(color='blue')\n",
    "))\n",
    "\n",
    "# Add the constant line y = 6\n",
    "fig.add_trace(go.Scatter(\n",
    "    x=x,\n",
    "    y=y2,\n",
    "    name='6',\n",
    "    mode='lines',\n",
    "    line=dict(color='red')\n",
    "))\n",
    "\n",
    "# Update layout\n",
    "fig.update_layout(\n",
    "    title='x² + 2 = 6',\n",
    "    xaxis_title='x',\n",
    "    yaxis_title='y',\n",
    "    showlegend=True,\n",
    "    hovermode='x unified'\n",
    ")\n",
    "\n",
    "# Add grid and set axis ranges\n",
    "fig.update_xaxes(gridcolor='lightgrey', zeroline=True, zerolinecolor='black')\n",
    "fig.update_yaxes(gridcolor='lightgrey', zeroline=True, zerolinecolor='black')\n",
    "\n",
    "# Show the plot\n",
    "fig.show()"
   ]
  },
  {
   "cell_type": "code",
   "execution_count": 5,
   "id": "85ef07f5-e9a9-48d1-994c-7123ed9d2bb4",
   "metadata": {},
   "outputs": [
    {
     "data": {
      "image/png": "[encoded data removed]",
      "text/plain": [
       "<Figure size 640x480 with 1 Axes>"
      ]
     },
     "metadata": {},
     "output_type": "display_data"
    }
   ],
   "source": [
    "import numpy as np\n",
    "import matplotlib.pyplot as plt\n",
    "\n",
    "# Define the equation\n",
    "def equation(x):\n",
    "    return x**2 + 2\n",
    "\n",
    "# Generate x values\n",
    "x = np.linspace(-5, 5, 100)\n",
    "\n",
    "# Calculate y values\n",
    "y = equation(x)\n",
    "\n",
    "# Plot the equation\n",
    "plt.plot(x, y)\n",
    "\n",
    "# Add labels and title\n",
    "plt.xlabel('x')\n",
    "plt.ylabel('y')\n",
    "plt.title('Plot of x^2 + 2')\n",
    "\n",
    "# Show the plot\n",
    "plt.show()"
   ]
  },
  {
   "cell_type": "code",
   "execution_count": 7,
   "id": "b88f8759-59e3-44e5-90c8-64a3f2330434",
   "metadata": {},
   "outputs": [
    {
     "data": {
      "image/png": "[encoded data removed]",
      "text/plain": [
       "<Figure size 1000x600 with 1 Axes>"
      ]
     },
     "metadata": {},
     "output_type": "display_data"
    }
   ],
   "source": [
    "import numpy as np\n",
    "import matplotlib.pyplot as plt\n",
    "\n",
    "# Generate x values\n",
    "x = np.linspace(-3, 3, 200)\n",
    "\n",
    "# Calculate y values for x² + 2\n",
    "y1 = x**2 + 2\n",
    "\n",
    "# Create constant line y = 6\n",
    "y2 = np.full_like(x, 6)\n",
    "\n",
    "# Create the plot\n",
    "plt.figure(figsize=(10, 6))\n",
    "\n",
    "# Plot both functions\n",
    "plt.plot(x, y1, 'b-', label='x² + 2', linewidth=2)\n",
    "plt.plot(x, y2, 'r-', label='6', linewidth=2)\n",
    "\n",
    "# Add title and labels\n",
    "plt.title('x² + 2 = 6', fontsize=14)\n",
    "plt.xlabel('x', fontsize=12)\n",
    "plt.ylabel('y', fontsize=12)\n",
    "\n",
    "# Add grid\n",
    "plt.grid(True, linestyle='--', alpha=0.7)\n",
    "\n",
    "# Add legend\n",
    "plt.legend(fontsize=10)\n",
    "\n",
    "# Add horizontal and vertical lines at 0\n",
    "plt.axhline(y=0, color='k', linestyle='-', alpha=0.3)\n",
    "plt.axvline(x=0, color='k', linestyle='-', alpha=0.3)\n",
    "\n",
    "# Set axis limits\n",
    "plt.xlim(-3, 3)\n",
    "plt.ylim(0, 12)\n",
    "\n",
    "# Make the plot look tight\n",
    "plt.tight_layout()\n",
    "\n",
    "# Show the plot\n",
    "plt.show()"
   ]
  },
  {
   "cell_type": "code",
   "execution_count": 8,
   "id": "c8f577e3-19c8-4a5f-8397-4c421f490ba2",
   "metadata": {},
   "outputs": [
    {
     "name": "stderr",
     "output_type": "stream",
     "text": [
      "Ignoring fixed y limits to fulfill fixed data aspect with adjustable data limits.\n",
      "Ignoring fixed y limits to fulfill fixed data aspect with adjustable data limits.\n"
     ]
    },
    {
     "data": {
      "image/png": "[encoded data removed]",
      "text/plain": [
       "<Figure size 1000x1000 with 1 Axes>"
      ]
     },
     "metadata": {},
     "output_type": "display_data"
    }
   ],
   "source": [
    "import numpy as np\n",
    "import matplotlib.pyplot as plt\n",
    "\n",
    "# Parameters\n",
    "A = 1\n",
    "B = 1\n",
    "a = 3\n",
    "b = 2\n",
    "delta = np.pi/2\n",
    "\n",
    "# Generate time values\n",
    "t = np.linspace(0, 2*np.pi, 1000)\n",
    "\n",
    "# Calculate x and y coordinates\n",
    "x = A * np.sin(a*t + delta)\n",
    "y = B * np.sin(b*t)\n",
    "\n",
    "# Create the plot\n",
    "plt.figure(figsize=(10, 10))\n",
    "\n",
    "# Plot the parametric curve\n",
    "plt.plot(x, y, 'b-', linewidth=1.5, label='Lissajous curve')\n",
    "\n",
    "# Add title and labels\n",
    "plt.title(f'Lissajous Curve\\nx(t)={A}sin({a}t + π/2), y(t)={B}sin({b}t)', fontsize=12)\n",
    "plt.xlabel('x', fontsize=10)\n",
    "plt.ylabel('y', fontsize=10)\n",
    "\n",
    "# Add grid\n",
    "plt.grid(True, linestyle='--', alpha=0.3)\n",
    "\n",
    "# Add horizontal and vertical lines at 0\n",
    "plt.axhline(y=0, color='k', linestyle='-', alpha=0.2)\n",
    "plt.axvline(x=0, color='k', linestyle='-', alpha=0.2)\n",
    "\n",
    "# Set equal aspect ratio\n",
    "plt.axis('equal')\n",
    "\n",
    "# Set axis limits\n",
    "plt.xlim(-1.5, 1.5)\n",
    "plt.ylim(-1.5, 1.5)\n",
    "\n",
    "# Add legend\n",
    "plt.legend()\n",
    "\n",
    "# Make the plot look tight\n",
    "plt.tight_layout()\n",
    "\n",
    "# Show the plot\n",
    "plt.show()"
   ]
  },
  {
   "cell_type": "code",
   "execution_count": 12,
   "id": "c2272b16-4aea-43e3-850a-ad19b5f85f80",
   "metadata": {},
   "outputs": [
    {
     "name": "stderr",
     "output_type": "stream",
     "text": [
      "/tmp/ipykernel_14497/328849171.py:18: UserWarning:\n",
      "\n",
      "Ignoring specified arguments in this call because figure with num: 1 already exists\n",
      "\n",
      "Ignoring fixed y limits to fulfill fixed data aspect with adjustable data limits.\n",
      "Ignoring fixed y limits to fulfill fixed data aspect with adjustable data limits.\n"
     ]
    },
    {
     "data": {
      "image/png": "[encoded data removed]",
      "text/plain": [
       "<Figure size 640x480 with 1 Axes>"
      ]
     },
     "metadata": {},
     "output_type": "display_data"
    },
    {
     "data": {
      "application/vnd.jupyter.widget-view+json": {
       "model_id": "c982bbdab17c4a3d907237dd51d1e831",
       "version_major": 2,
       "version_minor": 0
      },
      "text/plain": [
       "interactive(children=(FloatSlider(value=1.0, description='A:', layout=Layout(width='500px'), max=2.0, min=0.1)…"
      ]
     },
     "metadata": {},
     "output_type": "display_data"
    }
   ],
   "source": [
    "import numpy as np\n",
    "import matplotlib.pyplot as plt\n",
    "from ipywidgets import interactive, FloatSlider, Layout\n",
    "from IPython.display import display\n",
    "\n",
    "def plot_lissajous(A, B, a, b, delta):\n",
    "    # Clear previous plot\n",
    "    plt.clf()\n",
    "    \n",
    "    # Generate time values\n",
    "    t = np.linspace(0, 2*np.pi, 1000)\n",
    "    \n",
    "    # Calculate x and y coordinates\n",
    "    x = A * np.sin(a*t + delta)\n",
    "    y = B * np.sin(b*t)\n",
    "    \n",
    "    # Create the plot\n",
    "    plt.figure(1, figsize=(10, 10))\n",
    "    \n",
    "    # Plot the parametric curve\n",
    "    plt.plot(x, y, 'b-', linewidth=1.5, label='Lissajous curve')\n",
    "    \n",
    "    # Add title and labels\n",
    "    plt.title(f'Lissajous Curve\\nx(t)={A:.1f}sin({a:.1f}t + {delta:.1f}), y(t)={B:.1f}sin({b:.1f}t)', \n",
    "              fontsize=12)\n",
    "    plt.xlabel('x', fontsize=10)\n",
    "    plt.ylabel('y', fontsize=10)\n",
    "    \n",
    "    # Add grid\n",
    "    plt.grid(True, linestyle='--', alpha=0.3)\n",
    "    \n",
    "    # Add horizontal and vertical lines at 0\n",
    "    plt.axhline(y=0, color='k', linestyle='-', alpha=0.2)\n",
    "    plt.axvline(x=0, color='k', linestyle='-', alpha=0.2)\n",
    "    \n",
    "    # Set equal aspect ratio\n",
    "    plt.axis('equal')\n",
    "    \n",
    "    # Set axis limits\n",
    "    plt.xlim(-2, 2)\n",
    "    plt.ylim(-2, 2)\n",
    "    \n",
    "    # Add legend\n",
    "    plt.legend()\n",
    "    \n",
    "    plt.tight_layout()\n",
    "    plt.show()\n",
    "\n",
    "# Create interactive widgets\n",
    "widget = interactive(\n",
    "    plot_lissajous,\n",
    "    A=FloatSlider(min=0.1, max=2.0, step=0.1, value=1.0, description='A:',\n",
    "                  layout=Layout(width='500px')),\n",
    "    B=FloatSlider(min=0.1, max=2.0, step=0.1, value=1.0, description='B:',\n",
    "                  layout=Layout(width='500px')),\n",
    "    a=FloatSlider(min=1, max=5, step=0.1, value=3.0, description='a:',\n",
    "                  layout=Layout(width='500px')),\n",
    "    b=FloatSlider(min=1, max=5, step=0.1, value=2.0, description='b:',\n",
    "                  layout=Layout(width='500px')),\n",
    "    delta=FloatSlider(min=0, max=2*np.pi, step=0.1, value=np.pi/2, \n",
    "                      description='δ:', layout=Layout(width='500px'))\n",
    ")\n",
    "\n",
    "# Display the interactive plot\n",
    "display(widget)"
   ]
  },
  {
   "cell_type": "code",
   "execution_count": 13,
   "id": "056e3e57-62fd-4e44-9b7e-fd901ddc8185",
   "metadata": {},
   "outputs": [
    {
     "data": {
      "text/plain": [
       "<Figure size 640x480 with 0 Axes>"
      ]
     },
     "metadata": {},
     "output_type": "display_data"
    },
    {
     "data": {
      "image/png": "[encoded data removed]",
      "text/plain": [
       "<Figure size 1000x600 with 1 Axes>"
      ]
     },
     "metadata": {},
     "output_type": "display_data"
    },
    {
     "name": "stdout",
     "output_type": "stream",
     "text": [
      "\n",
      "Equation Analysis:\n",
      "Vertex: (2.00, 2.00)\n",
      "Opens: Upward\n",
      "Minimum point: (2.00, 2.00)\n",
      "No real roots\n"
     ]
    },
    {
     "data": {
      "application/vnd.jupyter.widget-view+json": {
       "model_id": "f0621c2c9123402c9bba56d2051624a6",
       "version_major": 2,
       "version_minor": 0
      },
      "text/plain": [
       "interactive(children=(FloatSlider(value=1.0, description='a:', layout=Layout(width='500px'), max=2.0, min=-2.0…"
      ]
     },
     "metadata": {},
     "output_type": "display_data"
    }
   ],
   "source": [
    "import numpy as np\n",
    "import matplotlib.pyplot as plt\n",
    "from ipywidgets import interactive, FloatSlider, Layout\n",
    "from IPython.display import display\n",
    "\n",
    "def plot_quadratic(a, b, c):\n",
    "    # Clear previous plot\n",
    "    plt.clf()\n",
    "    \n",
    "    # Generate x values\n",
    "    x = np.linspace(-2, 8, 200)\n",
    "    \n",
    "    # Calculate y values\n",
    "    y = a*x**2 + b*x + c\n",
    "    \n",
    "    # Calculate vertex\n",
    "    x_vertex = -b/(2*a)\n",
    "    y_vertex = a*x_vertex**2 + b*x_vertex + c\n",
    "    \n",
    "    # Create the plot\n",
    "    plt.figure(figsize=(10, 6))\n",
    "    \n",
    "    # Plot the quadratic function\n",
    "    plt.plot(x, y, 'b-', linewidth=2, label=f'y = {a}x² + {b}x + {c}')\n",
    "    \n",
    "    # Plot vertex point\n",
    "    plt.plot(x_vertex, y_vertex, 'ro', label=f'Vertex ({x_vertex:.2f}, {y_vertex:.2f})')\n",
    "    \n",
    "    # Add title and labels\n",
    "    plt.title(f'Quadratic Function: y = {a}x² + {b}x + {c}', fontsize=12)\n",
    "    plt.xlabel('x', fontsize=10)\n",
    "    plt.ylabel('y', fontsize=10)\n",
    "    \n",
    "    # Add grid\n",
    "    plt.grid(True, linestyle='--', alpha=0.3)\n",
    "    \n",
    "    # Add horizontal and vertical lines at 0\n",
    "    plt.axhline(y=0, color='k', linestyle='-', alpha=0.2)\n",
    "    plt.axvline(x=0, color='k', linestyle='-', alpha=0.2)\n",
    "    \n",
    "    # Set axis limits dynamically based on vertex\n",
    "    plt.xlim(min(x_vertex-5, -2), max(x_vertex+5, 8))\n",
    "    plt.ylim(min(y_vertex-5, -2), max(y_vertex+5, 10))\n",
    "    \n",
    "    # Add legend\n",
    "    plt.legend()\n",
    "    \n",
    "    # Make the plot look tight\n",
    "    plt.tight_layout()\n",
    "    \n",
    "    # Show the plot\n",
    "    plt.show()\n",
    "    \n",
    "    # Print equation analysis\n",
    "    print(\"\\nEquation Analysis:\")\n",
    "    print(f\"Vertex: ({x_vertex:.2f}, {y_vertex:.2f})\")\n",
    "    if a > 0:\n",
    "        print(\"Opens: Upward\")\n",
    "        print(f\"Minimum point: ({x_vertex:.2f}, {y_vertex:.2f})\")\n",
    "    else:\n",
    "        print(\"Opens: Downward\")\n",
    "        print(f\"Maximum point: ({x_vertex:.2f}, {y_vertex:.2f})\")\n",
    "    \n",
    "    # Calculate roots if they exist\n",
    "    discriminant = b**2 - 4*a*c\n",
    "    if discriminant > 0:\n",
    "        x1 = (-b + np.sqrt(discriminant))/(2*a)\n",
    "        x2 = (-b - np.sqrt(discriminant))/(2*a)\n",
    "        print(f\"Roots: x = {x1:.2f} and x = {x2:.2f}\")\n",
    "    elif discriminant == 0:\n",
    "        x1 = -b/(2*a)\n",
    "        print(f\"Root: x = {x1:.2f} (double root)\")\n",
    "    else:\n",
    "        print(\"No real roots\")\n",
    "\n",
    "# Create interactive widgets\n",
    "widget = interactive(\n",
    "    plot_quadratic,\n",
    "    a=FloatSlider(min=-2, max=2, step=0.1, value=1, description='a:',\n",
    "                  layout=Layout(width='500px')),\n",
    "    b=FloatSlider(min=-10, max=10, step=0.5, value=-4, description='b:',\n",
    "                  layout=Layout(width='500px')),\n",
    "    c=FloatSlider(min=-10, max=10, step=0.5, value=6, description='c:',\n",
    "                  layout=Layout(width='500px'))\n",
    ")\n",
    "\n",
    "# Display the interactive plot\n",
    "display(widget)"
   ]
  },
  {
   "cell_type": "code",
   "execution_count": null,
   "id": "8036f7e5-32a3-4211-a246-bce700320dbb",
   "metadata": {},
   "outputs": [],
   "source": []
  }
 ],
 "metadata": {
  "kernelspec": {
   "display_name": "Python 3 (ipykernel)",
   "language": "python",
   "name": "python3"
  },
  "language_info": {
   "codemirror_mode": {
    "name": "ipython",
    "version": 3
   },
   "file_extension": ".py",
   "mimetype": "text/x-python",
   "name": "python",
   "nbconvert_exporter": "python",
   "pygments_lexer": "ipython3",
   "version": "3.12.3"
  }
 },
 "nbformat": 4,
 "nbformat_minor": 5
}
