{
 "cells": [
  {
   "cell_type": "code",
   "execution_count": 1,
   "id": "ff150139-6f97-424b-9187-6cd5de64e86b",
   "metadata": {},
   "outputs": [],
   "source": [
    "l = [3,-1,5,2,4,-1]"
   ]
  },
  {
   "cell_type": "code",
   "execution_count": 5,
   "id": "f3f309fa-5caa-4cf9-ab05-6a8b9d59935f",
   "metadata": {},
   "outputs": [
    {
     "name": "stdout",
     "output_type": "stream",
     "text": [
      "3\n",
      "3\n",
      "7\n",
      "9\n",
      "13\n",
      "13\n"
     ]
    }
   ],
   "source": [
    "size = 2\n",
    "def subarraymax(arr, k):\n",
    "    maxend  = arr[0]\n",
    "    maxsofar = arr [0]\n",
    "    for i in range(1, len(arr)):\n",
    "        maxend = max(arr[i],maxend+arr[i])\n",
    "        \n",
    "        maxsofar  = max(maxsofar,maxend)\n",
    "    return maxsofar\n",
    "\n",
    "print(subarraymax(l,size))        "
   ]
  },
  {
   "cell_type": "code",
   "execution_count": 6,
   "id": "38f0a126-35a8-47b3-91f7-292a30894cb8",
   "metadata": {},
   "outputs": [
    {
     "ename": "SyntaxError",
     "evalue": "incomplete input (3229206506.py, line 7)",
     "output_type": "error",
     "traceback": [
      "\u001b[0;36m  Cell \u001b[0;32mIn[6], line 7\u001b[0;36m\u001b[0m\n\u001b[0;31m    \u001b[0m\n\u001b[0m    ^\u001b[0m\n\u001b[0;31mSyntaxError\u001b[0m\u001b[0;31m:\u001b[0m incomplete input\n"
     ]
    }
   ],
   "source": [
    "def maxsumk(arr,k):\n",
    "    start =0\n",
    "    n = len(arr)\n",
    "    end = n\n",
    "    maxsofar = arr[0]\n",
    "    for i in range(i,n):\n",
    "        maxsum  = "
   ]
  },
  {
   "cell_type": "code",
   "execution_count": null,
   "id": "95cecaff-bdd4-4483-89bd-8ac77158764b",
   "metadata": {},
   "outputs": [],
   "source": [
    "\n"
   ]
  }
 ],
 "metadata": {
  "kernelspec": {
   "display_name": "Python 3 (ipykernel)",
   "language": "python",
   "name": "python3"
  },
  "language_info": {
   "codemirror_mode": {
    "name": "ipython",
    "version": 3
   },
   "file_extension": ".py",
   "mimetype": "text/x-python",
   "name": "python",
   "nbconvert_exporter": "python",
   "pygments_lexer": "ipython3",
   "version": "3.12.3"
  }
 },
 "nbformat": 4,
 "nbformat_minor": 5
}
